{
 "cells": [
  {
   "cell_type": "markdown",
   "metadata": {
    "collapsed": true,
    "deletable": true,
    "editable": true
   },
   "source": [
    "# Image Classification\n",
    "In this project, you'll classify images from the [CIFAR-10 dataset](https://www.cs.toronto.edu/~kriz/cifar.html).  The dataset consists of airplanes, dogs, cats, and other objects. You'll preprocess the images, then train a convolutional neural network on all the samples. The images need to be normalized and the labels need to be one-hot encoded.  You'll get to apply what you learned and build a convolutional, max pooling, dropout, and fully connected layers.  At the end, you'll get to see your neural network's predictions on the sample images.\n",
    "## Get the Data\n",
    "Run the following cell to download the [CIFAR-10 dataset for python](https://www.cs.toronto.edu/~kriz/cifar-10-python.tar.gz)."
   ]
  },
  {
   "cell_type": "code",
   "execution_count": 1,
   "metadata": {
    "collapsed": false,
    "deletable": true,
    "editable": true
   },
   "outputs": [
    {
     "name": "stderr",
     "output_type": "stream",
     "text": [
      "CIFAR-10 Dataset: 171MB [00:40, 4.18MB/s]                              \n"
     ]
    },
    {
     "name": "stdout",
     "output_type": "stream",
     "text": [
      "All files found!\n"
     ]
    }
   ],
   "source": [
    "\"\"\"\n",
    "DON'T MODIFY ANYTHING IN THIS CELL THAT IS BELOW THIS LINE\n",
    "\"\"\"\n",
    "from urllib.request import urlretrieve\n",
    "from os.path import isfile, isdir\n",
    "from tqdm import tqdm\n",
    "import problem_unittests as tests\n",
    "import tarfile\n",
    "\n",
    "cifar10_dataset_folder_path = 'cifar-10-batches-py'\n",
    "\n",
    "class DLProgress(tqdm):\n",
    "    last_block = 0\n",
    "\n",
    "    def hook(self, block_num=1, block_size=1, total_size=None):\n",
    "        self.total = total_size\n",
    "        self.update((block_num - self.last_block) * block_size)\n",
    "        self.last_block = block_num\n",
    "\n",
    "if not isfile('cifar-10-python.tar.gz'):\n",
    "    with DLProgress(unit='B', unit_scale=True, miniters=1, desc='CIFAR-10 Dataset') as pbar:\n",
    "        urlretrieve(\n",
    "            'https://www.cs.toronto.edu/~kriz/cifar-10-python.tar.gz',\n",
    "            'cifar-10-python.tar.gz',\n",
    "            pbar.hook)\n",
    "\n",
    "if not isdir(cifar10_dataset_folder_path):\n",
    "    with tarfile.open('cifar-10-python.tar.gz') as tar:\n",
    "        tar.extractall()\n",
    "        tar.close()\n",
    "\n",
    "\n",
    "tests.test_folder_path(cifar10_dataset_folder_path)"
   ]
  },
  {
   "cell_type": "markdown",
   "metadata": {
    "deletable": true,
    "editable": true
   },
   "source": [
    "## Explore the Data\n",
    "The dataset is broken into batches to prevent your machine from running out of memory.  The CIFAR-10 dataset consists of 5 batches, named `data_batch_1`, `data_batch_2`, etc.. Each batch contains the labels and images that are one of the following:\n",
    "* airplane\n",
    "* automobile\n",
    "* bird\n",
    "* cat\n",
    "* deer\n",
    "* dog\n",
    "* frog\n",
    "* horse\n",
    "* ship\n",
    "* truck\n",
    "\n",
    "Understanding a dataset is part of making predictions on the data.  Play around with the code cell below by changing the `batch_id` and `sample_id`. The `batch_id` is the id for a batch (1-5). The `sample_id` is the id for a image and label pair in the batch.\n",
    "\n",
    "Ask yourself \"What are all possible labels?\", \"What is the range of values for the image data?\", \"Are the labels in order or random?\".  Answers to questions like these will help you preprocess the data and end up with better predictions."
   ]
  },
  {
   "cell_type": "code",
   "execution_count": 2,
   "metadata": {
    "collapsed": false,
    "deletable": true,
    "editable": true
   },
   "outputs": [
    {
     "name": "stdout",
     "output_type": "stream",
     "text": [
      "\n",
      "Stats of batch 5:\n",
      "Samples: 10000\n",
      "Label Counts: {0: 1014, 1: 1014, 2: 952, 3: 1016, 4: 997, 5: 1025, 6: 980, 7: 977, 8: 1003, 9: 1022}\n",
      "First 20 Labels: [1, 8, 5, 1, 5, 7, 4, 3, 8, 2, 7, 2, 0, 1, 5, 9, 6, 2, 0, 8]\n",
      "\n",
      "Example of Image 1000:\n",
      "Image - Min Value: 28 Max Value: 228\n",
      "Image - Shape: (32, 32, 3)\n",
      "Label - Label Id: 7 Name: horse\n"
     ]
    },
    {
     "data": {
      "image/png": "[encoded data removed]",
      "text/plain": [
       "<matplotlib.figure.Figure at 0x7fc573ab5048>"
      ]
     },
     "metadata": {
      "image/png": {
       "height": 250,
       "width": 253
      }
     },
     "output_type": "display_data"
    }
   ],
   "source": [
    "%matplotlib inline\n",
    "%config InlineBackend.figure_format = 'retina'\n",
    "\n",
    "import helper\n",
    "import numpy as np\n",
    "\n",
    "# Explore the dataset\n",
    "batch_id = 5\n",
    "sample_id = 1000\n",
    "helper.display_stats(cifar10_dataset_folder_path, batch_id, sample_id)"
   ]
  },
  {
   "cell_type": "markdown",
   "metadata": {
    "deletable": true,
    "editable": true
   },
   "source": [
    "## Implement Preprocess Functions\n",
    "### Normalize\n",
    "In the cell below, implement the `normalize` function to take in image data, `x`, and return it as a normalized Numpy array. The values should be in the range of 0 to 1, inclusive.  The return object should be the same shape as `x`."
   ]
  },
  {
   "cell_type": "code",
   "execution_count": 29,
   "metadata": {
    "collapsed": false,
    "deletable": true,
    "editable": true
   },
   "outputs": [
    {
     "name": "stdout",
     "output_type": "stream",
     "text": [
      "Tests Passed\n"
     ]
    }
   ],
   "source": [
    "def normalize(x):\n",
    "    \"\"\"\n",
    "    Normalize a list of sample image data in the range of 0 to 1\n",
    "    : x: List of image data.  The image shape is (32, 32, 3)\n",
    "    : return: Numpy array of normalize data\n",
    "    \"\"\"\n",
    "    x_min = x.min(axis=(1, 2), keepdims=True)\n",
    "    x_max = x.max(axis=(1, 2), keepdims=True)\n",
    "    x = (x - x_min)/(x_max-x_min)\n",
    "    \n",
    "    # try standardizing the data\n",
    "    #x_mean = x.mean(axis=(1,2), keepdims=True) \n",
    "    #x_std = x.std(axis=(1,2), keepdims=True)\n",
    "    #x_new = (x - x_mean) / x_std\n",
    "    \n",
    "    return x\n",
    "\n",
    "\n",
    "\"\"\"\n",
    "DON'T MODIFY ANYTHING IN THIS CELL THAT IS BELOW THIS LINE\n",
    "\"\"\"\n",
    "tests.test_normalize(normalize)"
   ]
  },
  {
   "cell_type": "markdown",
   "metadata": {
    "deletable": true,
    "editable": true
   },
   "source": [
    "### One-hot encode\n",
    "Just like the previous code cell, you'll be implementing a function for preprocessing.  This time, you'll implement the `one_hot_encode` function. The input, `x`, are a list of labels.  Implement the function to return the list of labels as One-Hot encoded Numpy array.  The possible values for labels are 0 to 9. The one-hot encoding function should return the same encoding for each value between each call to `one_hot_encode`.  Make sure to save the map of encodings outside the function.\n",
    "\n",
    "Hint: Don't reinvent the wheel."
   ]
  },
  {
   "cell_type": "code",
   "execution_count": 4,
   "metadata": {
    "collapsed": false,
    "deletable": true,
    "editable": true
   },
   "outputs": [
    {
     "name": "stdout",
     "output_type": "stream",
     "text": [
      "Tests Passed\n"
     ]
    }
   ],
   "source": [
    "def one_hot_encode(x):\n",
    "    \"\"\"\n",
    "    One hot encode a list of sample labels. Return a one-hot encoded vector for each label.\n",
    "    : x: List of sample Labels\n",
    "    : return: Numpy array of one-hot encoded labels\n",
    "    \"\"\"\n",
    "    x = np.array(x)\n",
    "    # set the number of rows and columns in the new array\n",
    "    n_row = x.size\n",
    "    n_col = 10\n",
    "    # make a new array full of zeros\n",
    "    ohe = np.zeros((n_row, n_col))\n",
    "    # the ones columns are just at the given locations\n",
    "    ohe[np.arange(n_row), x] = 1\n",
    "    return ohe\n",
    "\n",
    "\n",
    "\"\"\"\n",
    "DON'T MODIFY ANYTHING IN THIS CELL THAT IS BELOW THIS LINE\n",
    "\"\"\"\n",
    "tests.test_one_hot_encode(one_hot_encode)"
   ]
  },
  {
   "cell_type": "markdown",
   "metadata": {
    "deletable": true,
    "editable": true
   },
   "source": [
    "### Randomize Data\n",
    "As you saw from exploring the data above, the order of the samples are randomized.  It doesn't hurt to randomize it again, but you don't need to for this dataset."
   ]
  },
  {
   "cell_type": "markdown",
   "metadata": {
    "deletable": true,
    "editable": true
   },
   "source": [
    "## Preprocess all the data and save it\n",
    "Running the code cell below will preprocess all the CIFAR-10 data and save it to file. The code below also uses 10% of the training data for validation."
   ]
  },
  {
   "cell_type": "code",
   "execution_count": 5,
   "metadata": {
    "collapsed": false,
    "deletable": true,
    "editable": true
   },
   "outputs": [],
   "source": [
    "\"\"\"\n",
    "DON'T MODIFY ANYTHING IN THIS CELL\n",
    "\"\"\"\n",
    "# Preprocess Training, Validation, and Testing Data\n",
    "helper.preprocess_and_save_data(cifar10_dataset_folder_path, normalize, one_hot_encode)"
   ]
  },
  {
   "cell_type": "markdown",
   "metadata": {
    "deletable": true,
    "editable": true
   },
   "source": [
    "# Check Point\n",
    "This is your first checkpoint.  If you ever decide to come back to this notebook or have to restart the notebook, you can start from here.  The preprocessed data has been saved to disk."
   ]
  },
  {
   "cell_type": "code",
   "execution_count": 1,
   "metadata": {
    "collapsed": true,
    "deletable": true,
    "editable": true
   },
   "outputs": [],
   "source": [
    "\"\"\"\n",
    "DON'T MODIFY ANYTHING IN THIS CELL\n",
    "\"\"\"\n",
    "import pickle\n",
    "import problem_unittests as tests\n",
    "import helper\n",
    "\n",
    "# Load the Preprocessed Validation data\n",
    "valid_features, valid_labels = pickle.load(open('preprocess_validation.p', mode='rb'))"
   ]
  },
  {
   "cell_type": "markdown",
   "metadata": {
    "deletable": true,
    "editable": true
   },
   "source": [
    "## Build the network\n",
    "For the neural network, you'll build each layer into a function.  Most of the code you've seen has been outside of functions. To test your code more thoroughly, we require that you put each layer in a function.  This allows us to give you better feedback and test for simple mistakes using our unittests before you submit your project.\n",
    "\n",
    "If you're finding it hard to dedicate enough time for this course a week, we've provided a small shortcut to this part of the project. In the next couple of problems, you'll have the option to use [TensorFlow Layers](https://www.tensorflow.org/api_docs/python/tf/layers) or [TensorFlow Layers (contrib)](https://www.tensorflow.org/api_guides/python/contrib.layers) to build each layer, except \"Convolutional & Max Pooling\" layer.  TF Layers is similar to Keras's and TFLearn's abstraction to layers, so it's easy to pickup.\n",
    "\n",
    "If you would like to get the most of this course, try to solve all the problems without TF Layers.  Let's begin!\n",
    "### Input\n",
    "The neural network needs to read the image data, one-hot encoded labels, and dropout keep probability. Implement the following functions\n",
    "* Implement `neural_net_image_input`\n",
    " * Return a [TF Placeholder](https://www.tensorflow.org/api_docs/python/tf/placeholder)\n",
    " * Set the shape using `image_shape` with batch size set to `None`.\n",
    " * Name the TensorFlow placeholder \"x\" using the TensorFlow `name` parameter in the [TF Placeholder](https://www.tensorflow.org/api_docs/python/tf/placeholder).\n",
    "* Implement `neural_net_label_input`\n",
    " * Return a [TF Placeholder](https://www.tensorflow.org/api_docs/python/tf/placeholder)\n",
    " * Set the shape using `n_classes` with batch size set to `None`.\n",
    " * Name the TensorFlow placeholder \"y\" using the TensorFlow `name` parameter in the [TF Placeholder](https://www.tensorflow.org/api_docs/python/tf/placeholder).\n",
    "* Implement `neural_net_keep_prob_input`\n",
    " * Return a [TF Placeholder](https://www.tensorflow.org/api_docs/python/tf/placeholder) for dropout keep probability.\n",
    " * Name the TensorFlow placeholder \"keep_prob\" using the TensorFlow `name` parameter in the [TF Placeholder](https://www.tensorflow.org/api_docs/python/tf/placeholder).\n",
    "\n",
    "These names will be used at the end of the project to load your saved model.\n",
    "\n",
    "Note: `None` for shapes in TensorFlow allow for a dynamic size."
   ]
  },
  {
   "cell_type": "code",
   "execution_count": 2,
   "metadata": {
    "collapsed": false,
    "deletable": true,
    "editable": true
   },
   "outputs": [
    {
     "name": "stdout",
     "output_type": "stream",
     "text": [
      "Image Input Tests Passed.\n",
      "Label Input Tests Passed.\n",
      "Keep Prob Tests Passed.\n"
     ]
    }
   ],
   "source": [
    "import tensorflow as tf\n",
    "\n",
    "def neural_net_image_input(image_shape):\n",
    "    \"\"\"\n",
    "    Return a Tensor for a bach of image input\n",
    "    : image_shape: Shape of the images\n",
    "    : return: Tensor for image input.\n",
    "    \"\"\"\n",
    "    image_shape = list(image_shape)\n",
    "    shape = [None] + image_shape\n",
    "    return tf.placeholder(tf.float32, shape=shape, name='x')\n",
    "\n",
    "\n",
    "def neural_net_label_input(n_classes):\n",
    "    \"\"\"\n",
    "    Return a Tensor for a batch of label input\n",
    "    : n_classes: Number of classes\n",
    "    : return: Tensor for label input.\n",
    "    \"\"\"\n",
    "    shape = [None, n_classes]\n",
    "    return tf.placeholder(tf.float32, shape=shape, name='y')\n",
    "\n",
    "\n",
    "def neural_net_keep_prob_input():\n",
    "    \"\"\"\n",
    "    Return a Tensor for keep probability\n",
    "    : return: Tensor for keep probability.\n",
    "    \"\"\"\n",
    "    shape = None\n",
    "    return tf.placeholder(tf.float32, shape=shape, name='keep_prob')\n",
    "\n",
    "\n",
    "\"\"\"\n",
    "DON'T MODIFY ANYTHING IN THIS CELL THAT IS BELOW THIS LINE\n",
    "\"\"\"\n",
    "tf.reset_default_graph()\n",
    "tests.test_nn_image_inputs(neural_net_image_input)\n",
    "tests.test_nn_label_inputs(neural_net_label_input)\n",
    "tests.test_nn_keep_prob_inputs(neural_net_keep_prob_input)"
   ]
  },
  {
   "cell_type": "markdown",
   "metadata": {
    "deletable": true,
    "editable": true
   },
   "source": [
    "### Convolution and Max Pooling Layer\n",
    "Convolution layers have a lot of success with images. For this code cell, you should implement the function `conv2d_maxpool` to apply convolution then max pooling:\n",
    "* Create the weight and bias using `conv_ksize`, `conv_num_outputs` and the shape of `x_tensor`.\n",
    "* Apply a convolution to `x_tensor` using weight and `conv_strides`.\n",
    " * We recommend you use same padding, but you're welcome to use any padding.\n",
    "* Add bias\n",
    "* Add a nonlinear activation to the convolution.\n",
    "* Apply Max Pooling using `pool_ksize` and `pool_strides`.\n",
    " * We recommend you use same padding, but you're welcome to use any padding.\n",
    "\n",
    "Note: You **can't** use [TensorFlow Layers](https://www.tensorflow.org/api_docs/python/tf/layers) or [TensorFlow Layers (contrib)](https://www.tensorflow.org/api_guides/python/contrib.layers) for this layer.  You're free to use any TensorFlow package for all the other layers."
   ]
  },
  {
   "cell_type": "code",
   "execution_count": 12,
   "metadata": {
    "collapsed": false,
    "deletable": true,
    "editable": true
   },
   "outputs": [
    {
     "name": "stdout",
     "output_type": "stream",
     "text": [
      "Tests Passed\n"
     ]
    }
   ],
   "source": [
    "def conv2d_maxpool(x_tensor, conv_num_outputs, conv_ksize, conv_strides, pool_ksize, pool_strides):\n",
    "    \"\"\"\n",
    "    Apply convolution then max pooling to x_tensor\n",
    "    :param x_tensor: TensorFlow Tensor\n",
    "    :param conv_num_outputs: Number of outputs for the convolutional layer\n",
    "    :param conv_ksize: kernal size 2-D Tuple for the convolutional layer\n",
    "    :param conv_strides: Stride 2-D Tuple for convolution\n",
    "    :param pool_ksize: kernal size 2-D Tuple for pool\n",
    "    :param pool_strides: Stride 2-D Tuple for pool\n",
    "    : return: A tensor that represents convolution and max pooling of x_tensor\n",
    "    \"\"\"\n",
    "    # input shape\n",
    "    in_shape = x_tensor.get_shape().as_list()\n",
    "    # set up filter weights and bias\n",
    "    filter_W = tf.Variable(tf.truncated_normal((conv_ksize[0], conv_ksize[1], in_shape[3], conv_num_outputs), \n",
    "                                               stddev=.05))\n",
    "    filter_b = tf.Variable(tf.zeros(conv_num_outputs,))\n",
    "    # set up filter strides and padding\n",
    "    strides = [1, conv_strides[0], conv_strides[1], 1]\n",
    "    padding = 'SAME'\n",
    "    \n",
    "    # convolutional layer\n",
    "    conv_layer = tf.nn.relu(tf.nn.conv2d(x_tensor, filter_W, strides, padding) + filter_b)\n",
    "    # max pooling layer\n",
    "    ksize = [1, pool_ksize[0], pool_ksize[1], 1]\n",
    "    stride = [1, pool_strides[0], pool_strides[1], 1]\n",
    "    max_layer = tf.nn.max_pool(conv_layer, ksize, stride, padding)\n",
    "    \n",
    "    return max_layer \n",
    "\n",
    "\n",
    "\"\"\"\n",
    "DON'T MODIFY ANYTHING IN THIS CELL THAT IS BELOW THIS LINE\n",
    "\"\"\"\n",
    "tests.test_con_pool(conv2d_maxpool)"
   ]
  },
  {
   "cell_type": "markdown",
   "metadata": {
    "deletable": true,
    "editable": true
   },
   "source": [
    "### Flatten Layer\n",
    "Implement the `flatten` function to change the dimension of `x_tensor` from a 4-D tensor to a 2-D tensor.  The output should be the shape (*Batch Size*, *Flattened Image Size*). You can use [TensorFlow Layers](https://www.tensorflow.org/api_docs/python/tf/layers) or [TensorFlow Layers (contrib)](https://www.tensorflow.org/api_guides/python/contrib.layers) for this layer."
   ]
  },
  {
   "cell_type": "code",
   "execution_count": 13,
   "metadata": {
    "collapsed": false,
    "deletable": true,
    "editable": true
   },
   "outputs": [
    {
     "name": "stdout",
     "output_type": "stream",
     "text": [
      "Tests Passed\n"
     ]
    }
   ],
   "source": [
    "def flatten(x_tensor):\n",
    "    \"\"\"\n",
    "    Flatten x_tensor to (Batch Size, Flattened Image Size)\n",
    "    : x_tensor: A tensor of size (Batch Size, ...), where ... are the image dimensions.\n",
    "    : return: A tensor of size (Batch Size, Flattened Image Size).\n",
    "    \"\"\"\n",
    "    shape = x_tensor.get_shape().as_list()\n",
    "    img_size_flatten =   shape[1] * shape[2] * shape[3]\n",
    "    \n",
    "    return tf.reshape(x_tensor, (-1, img_size_flatten))\n",
    "\n",
    "\"\"\"\n",
    "DON'T MODIFY ANYTHING IN THIS CELL THAT IS BELOW THIS LINE\n",
    "\"\"\"\n",
    "tests.test_flatten(flatten)"
   ]
  },
  {
   "cell_type": "markdown",
   "metadata": {
    "deletable": true,
    "editable": true
   },
   "source": [
    "### Fully-Connected Layer\n",
    "Implement the `fully_conn` function to apply a fully connected layer to `x_tensor` with the shape (*Batch Size*, *num_outputs*). You can use [TensorFlow Layers](https://www.tensorflow.org/api_docs/python/tf/layers) or [TensorFlow Layers (contrib)](https://www.tensorflow.org/api_guides/python/contrib.layers) for this layer."
   ]
  },
  {
   "cell_type": "code",
   "execution_count": 14,
   "metadata": {
    "collapsed": false,
    "deletable": true,
    "editable": true
   },
   "outputs": [
    {
     "name": "stdout",
     "output_type": "stream",
     "text": [
      "Tests Passed\n"
     ]
    }
   ],
   "source": [
    "def fully_conn(x_tensor, num_outputs):\n",
    "    \"\"\"\n",
    "    Apply a fully connected layer to x_tensor using weight and bias\n",
    "    : x_tensor: A 2-D tensor where the first dimension is batch size.\n",
    "    : num_outputs: The number of output that the new tensor should be.\n",
    "    : return: A 2-D tensor where the second dimension is num_outputs.\n",
    "    \"\"\"\n",
    "    shape = x_tensor.get_shape().as_list()\n",
    "    weight = tf.Variable(tf.random_normal([shape[1], num_outputs]))\n",
    "    bias = tf.Variable(tf.random_normal([num_outputs]))\n",
    "    \n",
    "    fc = tf.add(tf.matmul(x_tensor, weight), bias)\n",
    "    fc = tf.nn.relu(fc)\n",
    "    \n",
    "    return fc\n",
    "\n",
    "\n",
    "\"\"\"\n",
    "DON'T MODIFY ANYTHING IN THIS CELL THAT IS BELOW THIS LINE\n",
    "\"\"\"\n",
    "tests.test_fully_conn(fully_conn)"
   ]
  },
  {
   "cell_type": "markdown",
   "metadata": {
    "deletable": true,
    "editable": true
   },
   "source": [
    "### Output Layer\n",
    "Implement the `output` function to apply a fully connected layer to `x_tensor` with the shape (*Batch Size*, *num_outputs*). You can use [TensorFlow Layers](https://www.tensorflow.org/api_docs/python/tf/layers) or [TensorFlow Layers (contrib)](https://www.tensorflow.org/api_guides/python/contrib.layers) for this layer.\n",
    "\n",
    "Note: Activation, softmax, or cross entropy shouldn't be applied to this."
   ]
  },
  {
   "cell_type": "code",
   "execution_count": 15,
   "metadata": {
    "collapsed": false,
    "deletable": true,
    "editable": true
   },
   "outputs": [
    {
     "name": "stdout",
     "output_type": "stream",
     "text": [
      "Tests Passed\n"
     ]
    }
   ],
   "source": [
    "def output(x_tensor, num_outputs):\n",
    "    \"\"\"\n",
    "    Apply a output layer to x_tensor using weight and bias\n",
    "    : x_tensor: A 2-D tensor where the first dimension is batch size.\n",
    "    : num_outputs: The number of output that the new tensor should be.\n",
    "    : return: A 2-D tensor where the second dimension is num_outputs.\n",
    "    \"\"\"\n",
    "    shape = x_tensor.get_shape().as_list()\n",
    "    weight = tf.Variable(tf.random_normal([shape[1], num_outputs]))\n",
    "    bias = tf.Variable(tf.random_normal([num_outputs]))\n",
    "    \n",
    "    output = tf.add(tf.matmul(x_tensor, weight), bias)\n",
    "    \n",
    "    return output\n",
    "    \n",
    "\n",
    "\"\"\"\n",
    "DON'T MODIFY ANYTHING IN THIS CELL THAT IS BELOW THIS LINE\n",
    "\"\"\"\n",
    "tests.test_output(output)"
   ]
  },
  {
   "cell_type": "markdown",
   "metadata": {
    "deletable": true,
    "editable": true
   },
   "source": [
    "### Create Convolutional Model\n",
    "Implement the function `conv_net` to create a convolutional neural network model. The function takes in a batch of images, `x`, and outputs logits.  Use the layers you created above to create this model:\n",
    "\n",
    "* Apply 1, 2, or 3 Convolution and Max Pool layers\n",
    "* Apply a Flatten Layer\n",
    "* Apply 1, 2, or 3 Fully Connected Layers\n",
    "* Apply an Output Layer\n",
    "* Return the output\n",
    "* Apply [TensorFlow's Dropout](https://www.tensorflow.org/api_docs/python/tf/nn/dropout) to one or more layers in the model using `keep_prob`. "
   ]
  },
  {
   "cell_type": "code",
   "execution_count": 16,
   "metadata": {
    "collapsed": false,
    "deletable": true,
    "editable": true
   },
   "outputs": [
    {
     "name": "stdout",
     "output_type": "stream",
     "text": [
      "Neural Network Built!\n"
     ]
    }
   ],
   "source": [
    "def conv_net(x, keep_prob):\n",
    "    \"\"\"\n",
    "    Create a convolutional neural network model\n",
    "    : x: Placeholder tensor that holds image data.\n",
    "    : keep_prob: Placeholder tensor that hold dropout keep probability.\n",
    "    : return: Tensor that represents logits\n",
    "    \"\"\"\n",
    "    # TODO: Apply 1, 2, or 3 Convolution and Max Pool layers\n",
    "    #    Play around with different number of outputs, kernel size and stride\n",
    "    # Function Definition from Above:\n",
    "    #    conv2d_maxpool(x_tensor, conv_num_outputs, conv_ksize, conv_strides, pool_ksize, pool_strides)\n",
    "    conv = conv2d_maxpool(x_tensor=x, \n",
    "                          conv_num_outputs=32, \n",
    "                          conv_ksize=(2,2), \n",
    "                          conv_strides=(1,1),\n",
    "                          pool_ksize=(2,2), \n",
    "                          pool_strides=(2,2))\n",
    "\n",
    "    \n",
    "    # second convolutional layer\n",
    "    conv = conv2d_maxpool(x_tensor=conv, \n",
    "                          conv_num_outputs=64, \n",
    "                          conv_ksize=(2,2), \n",
    "                          conv_strides=(1,1),\n",
    "                          pool_ksize=(2,2), \n",
    "                          pool_strides=(2,2))\n",
    "    \n",
    "    # third convolutional layer\n",
    "    conv = conv2d_maxpool(x_tensor=conv, \n",
    "                          conv_num_outputs=128, \n",
    "                          conv_ksize=(2,2), \n",
    "                          conv_strides=(1,1),\n",
    "                          pool_ksize=(2,2), \n",
    "                          pool_strides=(2,2))\n",
    "    \n",
    "    # dropout layer\n",
    "    conv = tf.nn.dropout(x=conv,\n",
    "                         keep_prob=keep_prob)\n",
    "    \n",
    "    # TODO: Apply a Flatten Layer\n",
    "    # Function Definition from Above:\n",
    "    #   flatten(x_tensor)\n",
    "    flat = flatten(conv)\n",
    "\n",
    "    # TODO: Apply 1, 2, or 3 Fully Connected Layers\n",
    "    #    Play around with different number of outputs\n",
    "    # Function Definition from Above:\n",
    "    #   fully_conn(x_tensor, num_outputs)\n",
    "    fc = fully_conn(x_tensor=flat, \n",
    "                    num_outputs=128)\n",
    "    \n",
    "    # dropout layer\n",
    "    #fc = tf.nn.dropout(x=fc, \n",
    "    #                   keep_prob=keep_prob)\n",
    "    \n",
    "    # TODO: Apply an Output Layer\n",
    "    #    Set this to the number of classes\n",
    "    # Function Definition from Above:\n",
    "    #   output(x_tensor, num_outputs)\n",
    "    out = output(x_tensor=fc, \n",
    "                 num_outputs=10)\n",
    "    \n",
    "    # TODO: return output\n",
    "    return out\n",
    "\n",
    "\n",
    "\"\"\"\n",
    "DON'T MODIFY ANYTHING IN THIS CELL THAT IS BELOW THIS LINE\n",
    "\"\"\"\n",
    "\n",
    "##############################\n",
    "## Build the Neural Network ##\n",
    "##############################\n",
    "\n",
    "# Remove previous weights, bias, inputs, etc..\n",
    "tf.reset_default_graph()\n",
    "\n",
    "# Inputs\n",
    "x = neural_net_image_input((32, 32, 3))\n",
    "y = neural_net_label_input(10)\n",
    "keep_prob = neural_net_keep_prob_input()\n",
    "\n",
    "# Model\n",
    "logits = conv_net(x, keep_prob)\n",
    "\n",
    "# Name logits Tensor, so that is can be loaded from disk after training\n",
    "logits = tf.identity(logits, name='logits')\n",
    "\n",
    "# Loss and Optimizer\n",
    "cost = tf.reduce_mean(tf.nn.softmax_cross_entropy_with_logits(logits=logits, labels=y))\n",
    "optimizer = tf.train.AdamOptimizer().minimize(cost)\n",
    "\n",
    "# Accuracy\n",
    "correct_pred = tf.equal(tf.argmax(logits, 1), tf.argmax(y, 1))\n",
    "accuracy = tf.reduce_mean(tf.cast(correct_pred, tf.float32), name='accuracy')\n",
    "\n",
    "tests.test_conv_net(conv_net)"
   ]
  },
  {
   "cell_type": "markdown",
   "metadata": {
    "deletable": true,
    "editable": true
   },
   "source": [
    "## Train the Neural Network\n",
    "### Single Optimization\n",
    "Implement the function `train_neural_network` to do a single optimization.  The optimization should use `optimizer` to optimize in `session` with a `feed_dict` of the following:\n",
    "* `x` for image input\n",
    "* `y` for labels\n",
    "* `keep_prob` for keep probability for dropout\n",
    "\n",
    "This function will be called for each batch, so `tf.global_variables_initializer()` has already been called.\n",
    "\n",
    "Note: Nothing needs to be returned. This function is only optimizing the neural network."
   ]
  },
  {
   "cell_type": "code",
   "execution_count": 17,
   "metadata": {
    "collapsed": false,
    "deletable": true,
    "editable": true
   },
   "outputs": [
    {
     "name": "stdout",
     "output_type": "stream",
     "text": [
      "Tests Passed\n"
     ]
    }
   ],
   "source": [
    "def train_neural_network(session, optimizer, keep_probability, feature_batch, label_batch):\n",
    "    \"\"\"\n",
    "    Optimize the session on a batch of images and labels\n",
    "    : session: Current TensorFlow session\n",
    "    : optimizer: TensorFlow optimizer function\n",
    "    : keep_probability: keep probability\n",
    "    : feature_batch: Batch of Numpy image data\n",
    "    : label_batch: Batch of Numpy label data\n",
    "    \"\"\"\n",
    "    session.run(optimizer, feed_dict={x: feature_batch, \n",
    "                                      y: label_batch, \n",
    "                                      keep_prob: keep_probability})\n",
    "    \n",
    "\n",
    "\n",
    "\"\"\"\n",
    "DON'T MODIFY ANYTHING IN THIS CELL THAT IS BELOW THIS LINE\n",
    "\"\"\"\n",
    "tests.test_train_nn(train_neural_network)"
   ]
  },
  {
   "cell_type": "markdown",
   "metadata": {
    "deletable": true,
    "editable": true
   },
   "source": [
    "### Show Stats\n",
    "Implement the function `print_stats` to print loss and validation accuracy.  Use the global variables `valid_features` and `valid_labels` to calculate validation accuracy.  Use a keep probability of `1.0` to calculate the loss and validation accuracy."
   ]
  },
  {
   "cell_type": "code",
   "execution_count": 18,
   "metadata": {
    "collapsed": false,
    "deletable": true,
    "editable": true
   },
   "outputs": [],
   "source": [
    "def print_stats(session, feature_batch, label_batch, cost, accuracy):\n",
    "    \"\"\"\n",
    "    Print information about loss and validation accuracy\n",
    "    : session: Current TensorFlow session\n",
    "    : feature_batch: Batch of Numpy image data\n",
    "    : label_batch: Batch of Numpy label data\n",
    "    : cost: TensorFlow cost function\n",
    "    : accuracy: TensorFlow accuracy function\n",
    "    \"\"\"\n",
    "    \n",
    "    loss = session.run(cost, feed_dict={x: feature_batch,\n",
    "                                        y: label_batch,\n",
    "                                        keep_prob: 1.0})\n",
    "    \n",
    "    validate_accuracy = session.run(accuracy, feed_dict={x: valid_features,\n",
    "                                                         y: valid_labels,\n",
    "                                                         keep_prob:1.0})\n",
    "    \n",
    "    print('loss: ' + str(loss) + '   ' + 'accuracy: ' + str(validate_accuracy))"
   ]
  },
  {
   "cell_type": "markdown",
   "metadata": {
    "deletable": true,
    "editable": true
   },
   "source": [
    "### Hyperparameters\n",
    "Tune the following parameters:\n",
    "* Set `epochs` to the number of iterations until the network stops learning or start overfitting\n",
    "* Set `batch_size` to the highest number that your machine has memory for.  Most people set them to common sizes of memory:\n",
    " * 64\n",
    " * 128\n",
    " * 256\n",
    " * ...\n",
    "* Set `keep_probability` to the probability of keeping a node using dropout"
   ]
  },
  {
   "cell_type": "code",
   "execution_count": 19,
   "metadata": {
    "collapsed": true,
    "deletable": true,
    "editable": true
   },
   "outputs": [],
   "source": [
    "# TODO: Tune Parameters\n",
    "epochs = 30\n",
    "batch_size = 256\n",
    "keep_probability = .6"
   ]
  },
  {
   "cell_type": "markdown",
   "metadata": {
    "deletable": true,
    "editable": true
   },
   "source": [
    "### Train on a Single CIFAR-10 Batch\n",
    "Instead of training the neural network on all the CIFAR-10 batches of data, let's use a single batch. This should save time while you iterate on the model to get a better accuracy.  Once the final validation accuracy is 50% or greater, run the model on all the data in the next section."
   ]
  },
  {
   "cell_type": "code",
   "execution_count": 20,
   "metadata": {
    "collapsed": false,
    "deletable": true,
    "editable": true,
    "scrolled": false
   },
   "outputs": [
    {
     "name": "stdout",
     "output_type": "stream",
     "text": [
      "Checking the Training on a Single Batch...\n",
      "Epoch  1, CIFAR-10 Batch 1:  loss: 2.10977   accuracy: 0.21\n",
      "Epoch  2, CIFAR-10 Batch 1:  loss: 1.85039   accuracy: 0.2836\n",
      "Epoch  3, CIFAR-10 Batch 1:  loss: 1.72777   accuracy: 0.3374\n",
      "Epoch  4, CIFAR-10 Batch 1:  loss: 1.60781   accuracy: 0.3724\n",
      "Epoch  5, CIFAR-10 Batch 1:  loss: 1.52293   accuracy: 0.4134\n",
      "Epoch  6, CIFAR-10 Batch 1:  loss: 1.45659   accuracy: 0.427\n",
      "Epoch  7, CIFAR-10 Batch 1:  loss: 1.31373   accuracy: 0.4556\n",
      "Epoch  8, CIFAR-10 Batch 1:  loss: 1.31112   accuracy: 0.4604\n",
      "Epoch  9, CIFAR-10 Batch 1:  loss: 1.2133   accuracy: 0.472\n",
      "Epoch 10, CIFAR-10 Batch 1:  loss: 1.19999   accuracy: 0.4556\n",
      "Epoch 11, CIFAR-10 Batch 1:  loss: 1.1059   accuracy: 0.4802\n",
      "Epoch 12, CIFAR-10 Batch 1:  loss: 1.0471   accuracy: 0.503\n",
      "Epoch 13, CIFAR-10 Batch 1:  loss: 1.00168   accuracy: 0.504\n",
      "Epoch 14, CIFAR-10 Batch 1:  loss: 0.997082   accuracy: 0.4812\n",
      "Epoch 15, CIFAR-10 Batch 1:  loss: 0.876682   accuracy: 0.5112\n",
      "Epoch 16, CIFAR-10 Batch 1:  loss: 0.819913   accuracy: 0.5338\n",
      "Epoch 17, CIFAR-10 Batch 1:  loss: 0.787852   accuracy: 0.5194\n",
      "Epoch 18, CIFAR-10 Batch 1:  loss: 0.779215   accuracy: 0.5296\n",
      "Epoch 19, CIFAR-10 Batch 1:  loss: 0.729612   accuracy: 0.5442\n",
      "Epoch 20, CIFAR-10 Batch 1:  loss: 0.678431   accuracy: 0.5394\n",
      "Epoch 21, CIFAR-10 Batch 1:  loss: 0.579616   accuracy: 0.5488\n",
      "Epoch 22, CIFAR-10 Batch 1:  loss: 0.549594   accuracy: 0.5538\n",
      "Epoch 23, CIFAR-10 Batch 1:  loss: 0.522391   accuracy: 0.551\n",
      "Epoch 24, CIFAR-10 Batch 1:  loss: 0.538709   accuracy: 0.553\n",
      "Epoch 25, CIFAR-10 Batch 1:  loss: 0.486979   accuracy: 0.569\n",
      "Epoch 26, CIFAR-10 Batch 1:  loss: 0.450712   accuracy: 0.5582\n",
      "Epoch 27, CIFAR-10 Batch 1:  loss: 0.459233   accuracy: 0.5718\n",
      "Epoch 28, CIFAR-10 Batch 1:  loss: 0.417894   accuracy: 0.5812\n",
      "Epoch 29, CIFAR-10 Batch 1:  loss: 0.366925   accuracy: 0.58\n",
      "Epoch 30, CIFAR-10 Batch 1:  loss: 0.359691   accuracy: 0.5866\n"
     ]
    }
   ],
   "source": [
    "\"\"\"\n",
    "DON'T MODIFY ANYTHING IN THIS CELL\n",
    "\"\"\"\n",
    "print('Checking the Training on a Single Batch...')\n",
    "with tf.Session() as sess:\n",
    "    # Initializing the variables\n",
    "    sess.run(tf.global_variables_initializer())\n",
    "    \n",
    "    # Training cycle\n",
    "    for epoch in range(epochs):\n",
    "        batch_i = 1\n",
    "        for batch_features, batch_labels in helper.load_preprocess_training_batch(batch_i, batch_size):\n",
    "            train_neural_network(sess, optimizer, keep_probability, batch_features, batch_labels)\n",
    "        print('Epoch {:>2}, CIFAR-10 Batch {}:  '.format(epoch + 1, batch_i), end='')\n",
    "        print_stats(sess, batch_features, batch_labels, cost, accuracy)"
   ]
  },
  {
   "cell_type": "markdown",
   "metadata": {
    "deletable": true,
    "editable": true
   },
   "source": [
    "### Fully Train the Model\n",
    "Now that you got a good accuracy with a single CIFAR-10 batch, try it with all five batches."
   ]
  },
  {
   "cell_type": "code",
   "execution_count": 21,
   "metadata": {
    "collapsed": false,
    "deletable": true,
    "editable": true
   },
   "outputs": [
    {
     "name": "stdout",
     "output_type": "stream",
     "text": [
      "Training...\n",
      "Epoch  1, CIFAR-10 Batch 1:  loss: 2.42046   accuracy: 0.1296\n",
      "Epoch  1, CIFAR-10 Batch 2:  loss: 2.22709   accuracy: 0.2542\n",
      "Epoch  1, CIFAR-10 Batch 3:  loss: 2.01737   accuracy: 0.2984\n",
      "Epoch  1, CIFAR-10 Batch 4:  loss: 1.8224   accuracy: 0.3294\n",
      "Epoch  1, CIFAR-10 Batch 5:  loss: 1.89126   accuracy: 0.3768\n",
      "Epoch  2, CIFAR-10 Batch 1:  loss: 1.80841   accuracy: 0.3802\n",
      "Epoch  2, CIFAR-10 Batch 2:  loss: 1.6916   accuracy: 0.4032\n",
      "Epoch  2, CIFAR-10 Batch 3:  loss: 1.63234   accuracy: 0.4152\n",
      "Epoch  2, CIFAR-10 Batch 4:  loss: 1.66973   accuracy: 0.3642\n",
      "Epoch  2, CIFAR-10 Batch 5:  loss: 1.6386   accuracy: 0.4332\n",
      "Epoch  3, CIFAR-10 Batch 1:  loss: 1.63401   accuracy: 0.4344\n",
      "Epoch  3, CIFAR-10 Batch 2:  loss: 1.41857   accuracy: 0.447\n",
      "Epoch  3, CIFAR-10 Batch 3:  loss: 1.41505   accuracy: 0.4632\n",
      "Epoch  3, CIFAR-10 Batch 4:  loss: 1.35623   accuracy: 0.4618\n",
      "Epoch  3, CIFAR-10 Batch 5:  loss: 1.47747   accuracy: 0.4818\n",
      "Epoch  4, CIFAR-10 Batch 1:  loss: 1.43236   accuracy: 0.472\n",
      "Epoch  4, CIFAR-10 Batch 2:  loss: 1.24743   accuracy: 0.489\n",
      "Epoch  4, CIFAR-10 Batch 3:  loss: 1.31668   accuracy: 0.5174\n",
      "Epoch  4, CIFAR-10 Batch 4:  loss: 1.14623   accuracy: 0.5142\n",
      "Epoch  4, CIFAR-10 Batch 5:  loss: 1.35123   accuracy: 0.519\n",
      "Epoch  5, CIFAR-10 Batch 1:  loss: 1.27515   accuracy: 0.5098\n",
      "Epoch  5, CIFAR-10 Batch 2:  loss: 1.19423   accuracy: 0.5282\n",
      "Epoch  5, CIFAR-10 Batch 3:  loss: 1.13516   accuracy: 0.5508\n",
      "Epoch  5, CIFAR-10 Batch 4:  loss: 1.01527   accuracy: 0.5338\n",
      "Epoch  5, CIFAR-10 Batch 5:  loss: 1.25842   accuracy: 0.5284\n",
      "Epoch  6, CIFAR-10 Batch 1:  loss: 1.23832   accuracy: 0.5374\n",
      "Epoch  6, CIFAR-10 Batch 2:  loss: 1.07135   accuracy: 0.5538\n",
      "Epoch  6, CIFAR-10 Batch 3:  loss: 1.02809   accuracy: 0.5636\n",
      "Epoch  6, CIFAR-10 Batch 4:  loss: 0.942169   accuracy: 0.5474\n",
      "Epoch  6, CIFAR-10 Batch 5:  loss: 1.09211   accuracy: 0.5716\n",
      "Epoch  7, CIFAR-10 Batch 1:  loss: 1.1473   accuracy: 0.5618\n",
      "Epoch  7, CIFAR-10 Batch 2:  loss: 0.991978   accuracy: 0.5712\n",
      "Epoch  7, CIFAR-10 Batch 3:  loss: 0.926484   accuracy: 0.5714\n",
      "Epoch  7, CIFAR-10 Batch 4:  loss: 0.815524   accuracy: 0.5778\n",
      "Epoch  7, CIFAR-10 Batch 5:  loss: 0.953141   accuracy: 0.5954\n",
      "Epoch  8, CIFAR-10 Batch 1:  loss: 1.11315   accuracy: 0.5968\n",
      "Epoch  8, CIFAR-10 Batch 2:  loss: 0.965208   accuracy: 0.5892\n",
      "Epoch  8, CIFAR-10 Batch 3:  loss: 0.914036   accuracy: 0.5872\n",
      "Epoch  8, CIFAR-10 Batch 4:  loss: 0.8583   accuracy: 0.579\n",
      "Epoch  8, CIFAR-10 Batch 5:  loss: 0.915299   accuracy: 0.6082\n",
      "Epoch  9, CIFAR-10 Batch 1:  loss: 1.01141   accuracy: 0.5982\n",
      "Epoch  9, CIFAR-10 Batch 2:  loss: 1.01865   accuracy: 0.5874\n",
      "Epoch  9, CIFAR-10 Batch 3:  loss: 0.78706   accuracy: 0.6192\n",
      "Epoch  9, CIFAR-10 Batch 4:  loss: 0.703092   accuracy: 0.6146\n",
      "Epoch  9, CIFAR-10 Batch 5:  loss: 0.819034   accuracy: 0.6186\n",
      "Epoch 10, CIFAR-10 Batch 1:  loss: 0.94516   accuracy: 0.601\n",
      "Epoch 10, CIFAR-10 Batch 2:  loss: 0.785942   accuracy: 0.612\n",
      "Epoch 10, CIFAR-10 Batch 3:  loss: 0.748348   accuracy: 0.6222\n",
      "Epoch 10, CIFAR-10 Batch 4:  loss: 0.667638   accuracy: 0.6286\n",
      "Epoch 10, CIFAR-10 Batch 5:  loss: 0.77946   accuracy: 0.6192\n",
      "Epoch 11, CIFAR-10 Batch 1:  loss: 0.859834   accuracy: 0.605\n",
      "Epoch 11, CIFAR-10 Batch 2:  loss: 0.769827   accuracy: 0.6228\n",
      "Epoch 11, CIFAR-10 Batch 3:  loss: 0.779142   accuracy: 0.5958\n",
      "Epoch 11, CIFAR-10 Batch 4:  loss: 0.652941   accuracy: 0.6312\n",
      "Epoch 11, CIFAR-10 Batch 5:  loss: 0.705315   accuracy: 0.6466\n",
      "Epoch 12, CIFAR-10 Batch 1:  loss: 0.768578   accuracy: 0.6164\n",
      "Epoch 12, CIFAR-10 Batch 2:  loss: 0.773943   accuracy: 0.6296\n",
      "Epoch 12, CIFAR-10 Batch 3:  loss: 0.626744   accuracy: 0.648\n",
      "Epoch 12, CIFAR-10 Batch 4:  loss: 0.568393   accuracy: 0.6466\n",
      "Epoch 12, CIFAR-10 Batch 5:  loss: 0.641525   accuracy: 0.6282\n",
      "Epoch 13, CIFAR-10 Batch 1:  loss: 0.761708   accuracy: 0.6404\n",
      "Epoch 13, CIFAR-10 Batch 2:  loss: 0.730656   accuracy: 0.622\n",
      "Epoch 13, CIFAR-10 Batch 3:  loss: 0.655429   accuracy: 0.639\n",
      "Epoch 13, CIFAR-10 Batch 4:  loss: 0.58281   accuracy: 0.6502\n",
      "Epoch 13, CIFAR-10 Batch 5:  loss: 0.595749   accuracy: 0.6374\n",
      "Epoch 14, CIFAR-10 Batch 1:  loss: 0.774456   accuracy: 0.6468\n",
      "Epoch 14, CIFAR-10 Batch 2:  loss: 0.717169   accuracy: 0.637\n",
      "Epoch 14, CIFAR-10 Batch 3:  loss: 0.584835   accuracy: 0.6452\n",
      "Epoch 14, CIFAR-10 Batch 4:  loss: 0.551118   accuracy: 0.647\n",
      "Epoch 14, CIFAR-10 Batch 5:  loss: 0.575215   accuracy: 0.6572\n",
      "Epoch 15, CIFAR-10 Batch 1:  loss: 0.689613   accuracy: 0.6414\n",
      "Epoch 15, CIFAR-10 Batch 2:  loss: 0.672127   accuracy: 0.66\n",
      "Epoch 15, CIFAR-10 Batch 3:  loss: 0.504975   accuracy: 0.645\n",
      "Epoch 15, CIFAR-10 Batch 4:  loss: 0.510463   accuracy: 0.6602\n",
      "Epoch 15, CIFAR-10 Batch 5:  loss: 0.52229   accuracy: 0.6646\n",
      "Epoch 16, CIFAR-10 Batch 1:  loss: 0.665522   accuracy: 0.6556\n",
      "Epoch 16, CIFAR-10 Batch 2:  loss: 0.619667   accuracy: 0.6642\n",
      "Epoch 16, CIFAR-10 Batch 3:  loss: 0.528494   accuracy: 0.641\n",
      "Epoch 16, CIFAR-10 Batch 4:  loss: 0.495518   accuracy: 0.672\n",
      "Epoch 16, CIFAR-10 Batch 5:  loss: 0.539341   accuracy: 0.6698\n",
      "Epoch 17, CIFAR-10 Batch 1:  loss: 0.589796   accuracy: 0.6646\n",
      "Epoch 17, CIFAR-10 Batch 2:  loss: 0.598745   accuracy: 0.6592\n",
      "Epoch 17, CIFAR-10 Batch 3:  loss: 0.462379   accuracy: 0.6714\n",
      "Epoch 17, CIFAR-10 Batch 4:  loss: 0.456633   accuracy: 0.671\n",
      "Epoch 17, CIFAR-10 Batch 5:  loss: 0.487276   accuracy: 0.6664\n",
      "Epoch 18, CIFAR-10 Batch 1:  loss: 0.544651   accuracy: 0.677\n",
      "Epoch 18, CIFAR-10 Batch 2:  loss: 0.576682   accuracy: 0.6712\n",
      "Epoch 18, CIFAR-10 Batch 3:  loss: 0.436897   accuracy: 0.6844\n",
      "Epoch 18, CIFAR-10 Batch 4:  loss: 0.48577   accuracy: 0.6694\n",
      "Epoch 18, CIFAR-10 Batch 5:  loss: 0.466287   accuracy: 0.657\n",
      "Epoch 19, CIFAR-10 Batch 1:  loss: 0.511013   accuracy: 0.6718\n",
      "Epoch 19, CIFAR-10 Batch 2:  loss: 0.533228   accuracy: 0.6796\n",
      "Epoch 19, CIFAR-10 Batch 3:  loss: 0.397155   accuracy: 0.6702\n",
      "Epoch 19, CIFAR-10 Batch 4:  loss: 0.420671   accuracy: 0.6802\n",
      "Epoch 19, CIFAR-10 Batch 5:  loss: 0.37959   accuracy: 0.6802\n",
      "Epoch 20, CIFAR-10 Batch 1:  loss: 0.481135   accuracy: 0.6706\n",
      "Epoch 20, CIFAR-10 Batch 2:  loss: 0.514312   accuracy: 0.6828\n",
      "Epoch 20, CIFAR-10 Batch 3:  loss: 0.398859   accuracy: 0.6844\n",
      "Epoch 20, CIFAR-10 Batch 4:  loss: 0.365821   accuracy: 0.6912\n",
      "Epoch 20, CIFAR-10 Batch 5:  loss: 0.423876   accuracy: 0.67\n",
      "Epoch 21, CIFAR-10 Batch 1:  loss: 0.436386   accuracy: 0.6894\n",
      "Epoch 21, CIFAR-10 Batch 2:  loss: 0.448916   accuracy: 0.689\n",
      "Epoch 21, CIFAR-10 Batch 3:  loss: 0.359935   accuracy: 0.6832\n",
      "Epoch 21, CIFAR-10 Batch 4:  loss: 0.362411   accuracy: 0.6904\n",
      "Epoch 21, CIFAR-10 Batch 5:  loss: 0.404741   accuracy: 0.6926\n",
      "Epoch 22, CIFAR-10 Batch 1:  loss: 0.410812   accuracy: 0.6856\n",
      "Epoch 22, CIFAR-10 Batch 2:  loss: 0.425878   accuracy: 0.6922\n",
      "Epoch 22, CIFAR-10 Batch 3:  loss: 0.411236   accuracy: 0.6882\n",
      "Epoch 22, CIFAR-10 Batch 4:  loss: 0.374169   accuracy: 0.6944\n",
      "Epoch 22, CIFAR-10 Batch 5:  loss: 0.387503   accuracy: 0.682\n",
      "Epoch 23, CIFAR-10 Batch 1:  loss: 0.433569   accuracy: 0.688\n",
      "Epoch 23, CIFAR-10 Batch 2:  loss: 0.402353   accuracy: 0.693\n",
      "Epoch 23, CIFAR-10 Batch 3:  loss: 0.312   accuracy: 0.6942\n",
      "Epoch 23, CIFAR-10 Batch 4:  loss: 0.305124   accuracy: 0.6974\n",
      "Epoch 23, CIFAR-10 Batch 5:  loss: 0.357664   accuracy: 0.6794\n",
      "Epoch 24, CIFAR-10 Batch 1:  loss: 0.402114   accuracy: 0.688\n",
      "Epoch 24, CIFAR-10 Batch 2:  loss: 0.435027   accuracy: 0.6838\n",
      "Epoch 24, CIFAR-10 Batch 3:  loss: 0.306304   accuracy: 0.6972\n",
      "Epoch 24, CIFAR-10 Batch 4:  loss: 0.293159   accuracy: 0.6938\n",
      "Epoch 24, CIFAR-10 Batch 5:  loss: 0.324099   accuracy: 0.6662\n",
      "Epoch 25, CIFAR-10 Batch 1:  loss: 0.391149   accuracy: 0.6792\n",
      "Epoch 25, CIFAR-10 Batch 2:  loss: 0.363713   accuracy: 0.6986\n",
      "Epoch 25, CIFAR-10 Batch 3:  loss: 0.305252   accuracy: 0.6832\n",
      "Epoch 25, CIFAR-10 Batch 4:  loss: 0.339767   accuracy: 0.6878\n",
      "Epoch 25, CIFAR-10 Batch 5:  loss: 0.31184   accuracy: 0.6836\n",
      "Epoch 26, CIFAR-10 Batch 1:  loss: 0.386673   accuracy: 0.6864\n",
      "Epoch 26, CIFAR-10 Batch 2:  loss: 0.372606   accuracy: 0.7026\n",
      "Epoch 26, CIFAR-10 Batch 3:  loss: 0.281447   accuracy: 0.6944\n",
      "Epoch 26, CIFAR-10 Batch 4:  loss: 0.335062   accuracy: 0.694\n",
      "Epoch 26, CIFAR-10 Batch 5:  loss: 0.277522   accuracy: 0.6934\n",
      "Epoch 27, CIFAR-10 Batch 1:  loss: 0.338642   accuracy: 0.6818\n",
      "Epoch 27, CIFAR-10 Batch 2:  loss: 0.345939   accuracy: 0.6958\n",
      "Epoch 27, CIFAR-10 Batch 3:  loss: 0.277716   accuracy: 0.6862\n",
      "Epoch 27, CIFAR-10 Batch 4:  loss: 0.33187   accuracy: 0.6886\n",
      "Epoch 27, CIFAR-10 Batch 5:  loss: 0.281698   accuracy: 0.68\n",
      "Epoch 28, CIFAR-10 Batch 1:  loss: 0.314563   accuracy: 0.6966\n",
      "Epoch 28, CIFAR-10 Batch 2:  loss: 0.361771   accuracy: 0.6954\n",
      "Epoch 28, CIFAR-10 Batch 3:  loss: 0.266971   accuracy: 0.69\n",
      "Epoch 28, CIFAR-10 Batch 4:  loss: 0.292975   accuracy: 0.6914\n",
      "Epoch 28, CIFAR-10 Batch 5:  loss: 0.330365   accuracy: 0.6836\n",
      "Epoch 29, CIFAR-10 Batch 1:  loss: 0.322569   accuracy: 0.6892\n",
      "Epoch 29, CIFAR-10 Batch 2:  loss: 0.373182   accuracy: 0.6946\n",
      "Epoch 29, CIFAR-10 Batch 3:  loss: 0.240113   accuracy: 0.683\n",
      "Epoch 29, CIFAR-10 Batch 4:  loss: 0.25501   accuracy: 0.6972\n",
      "Epoch 29, CIFAR-10 Batch 5:  loss: 0.326853   accuracy: 0.6876\n",
      "Epoch 30, CIFAR-10 Batch 1:  loss: 0.283047   accuracy: 0.6956\n",
      "Epoch 30, CIFAR-10 Batch 2:  loss: 0.327797   accuracy: 0.7022\n",
      "Epoch 30, CIFAR-10 Batch 3:  loss: 0.246373   accuracy: 0.6894\n",
      "Epoch 30, CIFAR-10 Batch 4:  loss: 0.255878   accuracy: 0.7052\n",
      "Epoch 30, CIFAR-10 Batch 5:  loss: 0.26702   accuracy: 0.6802\n"
     ]
    }
   ],
   "source": [
    "\"\"\"\n",
    "DON'T MODIFY ANYTHING IN THIS CELL\n",
    "\"\"\"\n",
    "save_model_path = './image_classification'\n",
    "\n",
    "print('Training...')\n",
    "with tf.Session() as sess:\n",
    "    # Initializing the variables\n",
    "    sess.run(tf.global_variables_initializer())\n",
    "    \n",
    "    # Training cycle\n",
    "    for epoch in range(epochs):\n",
    "        # Loop over all batches\n",
    "        n_batches = 5\n",
    "        for batch_i in range(1, n_batches + 1):\n",
    "            for batch_features, batch_labels in helper.load_preprocess_training_batch(batch_i, batch_size):\n",
    "                train_neural_network(sess, optimizer, keep_probability, batch_features, batch_labels)\n",
    "            print('Epoch {:>2}, CIFAR-10 Batch {}:  '.format(epoch + 1, batch_i), end='')\n",
    "            print_stats(sess, batch_features, batch_labels, cost, accuracy)\n",
    "            \n",
    "    # Save Model\n",
    "    saver = tf.train.Saver()\n",
    "    save_path = saver.save(sess, save_model_path)"
   ]
  },
  {
   "cell_type": "markdown",
   "metadata": {
    "deletable": true,
    "editable": true
   },
   "source": [
    "# Checkpoint\n",
    "The model has been saved to disk.\n",
    "## Test Model\n",
    "Test your model against the test dataset.  This will be your final accuracy. You should have an accuracy greater than 50%. If you don't, keep tweaking the model architecture and parameters."
   ]
  },
  {
   "cell_type": "code",
   "execution_count": 22,
   "metadata": {
    "collapsed": false,
    "deletable": true,
    "editable": true
   },
   "outputs": [
    {
     "name": "stdout",
     "output_type": "stream",
     "text": [
      "Testing Accuracy: 0.67919921875\n",
      "\n"
     ]
    },
    {
     "data": {
      "image/png": "[encoded data removed]",
      "text/plain": [
       "<matplotlib.figure.Figure at 0x7fede8016ef0>"
      ]
     },
     "metadata": {
      "image/png": {
       "height": 319,
       "width": 355
      }
     },
     "output_type": "display_data"
    }
   ],
   "source": [
    "\"\"\"\n",
    "DON'T MODIFY ANYTHING IN THIS CELL\n",
    "\"\"\"\n",
    "%matplotlib inline\n",
    "%config InlineBackend.figure_format = 'retina'\n",
    "\n",
    "import tensorflow as tf\n",
    "import pickle\n",
    "import helper\n",
    "import random\n",
    "\n",
    "# Set batch size if not already set\n",
    "try:\n",
    "    if batch_size:\n",
    "        pass\n",
    "except NameError:\n",
    "    batch_size = 64\n",
    "\n",
    "save_model_path = './image_classification'\n",
    "n_samples = 4\n",
    "top_n_predictions = 3\n",
    "\n",
    "def test_model():\n",
    "    \"\"\"\n",
    "    Test the saved model against the test dataset\n",
    "    \"\"\"\n",
    "\n",
    "    test_features, test_labels = pickle.load(open('preprocess_training.p', mode='rb'))\n",
    "    loaded_graph = tf.Graph()\n",
    "\n",
    "    with tf.Session(graph=loaded_graph) as sess:\n",
    "        # Load model\n",
    "        loader = tf.train.import_meta_graph(save_model_path + '.meta')\n",
    "        loader.restore(sess, save_model_path)\n",
    "\n",
    "        # Get Tensors from loaded model\n",
    "        loaded_x = loaded_graph.get_tensor_by_name('x:0')\n",
    "        loaded_y = loaded_graph.get_tensor_by_name('y:0')\n",
    "        loaded_keep_prob = loaded_graph.get_tensor_by_name('keep_prob:0')\n",
    "        loaded_logits = loaded_graph.get_tensor_by_name('logits:0')\n",
    "        loaded_acc = loaded_graph.get_tensor_by_name('accuracy:0')\n",
    "        \n",
    "        # Get accuracy in batches for memory limitations\n",
    "        test_batch_acc_total = 0\n",
    "        test_batch_count = 0\n",
    "        \n",
    "        for train_feature_batch, train_label_batch in helper.batch_features_labels(test_features, test_labels, batch_size):\n",
    "            test_batch_acc_total += sess.run(\n",
    "                loaded_acc,\n",
    "                feed_dict={loaded_x: train_feature_batch, loaded_y: train_label_batch, loaded_keep_prob: 1.0})\n",
    "            test_batch_count += 1\n",
    "\n",
    "        print('Testing Accuracy: {}\\n'.format(test_batch_acc_total/test_batch_count))\n",
    "\n",
    "        # Print Random Samples\n",
    "        random_test_features, random_test_labels = tuple(zip(*random.sample(list(zip(test_features, test_labels)), n_samples)))\n",
    "        random_test_predictions = sess.run(\n",
    "            tf.nn.top_k(tf.nn.softmax(loaded_logits), top_n_predictions),\n",
    "            feed_dict={loaded_x: random_test_features, loaded_y: random_test_labels, loaded_keep_prob: 1.0})\n",
    "        helper.display_image_predictions(random_test_features, random_test_labels, random_test_predictions)\n",
    "\n",
    "\n",
    "test_model()"
   ]
  },
  {
   "cell_type": "markdown",
   "metadata": {
    "deletable": true,
    "editable": true
   },
   "source": [
    "## Why 50-70% Accuracy?\n",
    "You might be wondering why you can't get an accuracy any higher. First things first, 50% isn't bad for a simple CNN.  Pure guessing would get you 10% accuracy. However, you might notice people are getting scores [well above 70%](http://rodrigob.github.io/are_we_there_yet/build/classification_datasets_results.html#43494641522d3130).  That's because we haven't taught you all there is to know about neural networks. We still need to cover a few more techniques.\n",
    "## Submitting This Project\n",
    "When submitting this project, make sure to run all the cells before saving the notebook.  Save the notebook file as \"dlnd_image_classification.ipynb\" and save it as a HTML file under \"File\" -> \"Download as\".  Include the \"helper.py\" and \"problem_unittests.py\" files in your submission."
   ]
  }
 ],
 "metadata": {
  "anaconda-cloud": {},
  "kernelspec": {
   "display_name": "Python 3",
   "language": "python",
   "name": "python3"
  },
  "language_info": {
   "codemirror_mode": {
    "name": "ipython",
    "version": 3
   },
   "file_extension": ".py",
   "mimetype": "text/x-python",
   "name": "python",
   "nbconvert_exporter": "python",
   "pygments_lexer": "ipython3",
   "version": "3.5.2"
  },
  "widgets": {
   "state": {},
   "version": "1.1.2"
  }
 },
 "nbformat": 4,
 "nbformat_minor": 0
}

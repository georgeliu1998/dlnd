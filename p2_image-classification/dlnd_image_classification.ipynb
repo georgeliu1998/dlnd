{
 "cells": [
  {
   "cell_type": "markdown",
   "metadata": {
    "collapsed": true,
    "deletable": true,
    "editable": true
   },
   "source": [
    "# Image Classification\n",
    "In this project, you'll classify images from the [CIFAR-10 dataset](https://www.cs.toronto.edu/~kriz/cifar.html).  The dataset consists of airplanes, dogs, cats, and other objects. You'll preprocess the images, then train a convolutional neural network on all the samples. The images need to be normalized and the labels need to be one-hot encoded.  You'll get to apply what you learned and build a convolutional, max pooling, dropout, and fully connected layers.  At the end, you'll get to see your neural network's predictions on the sample images.\n",
    "## Get the Data\n",
    "Run the following cell to download the [CIFAR-10 dataset for python](https://www.cs.toronto.edu/~kriz/cifar-10-python.tar.gz)."
   ]
  },
  {
   "cell_type": "code",
   "execution_count": 1,
   "metadata": {
    "collapsed": false,
    "deletable": true,
    "editable": true
   },
   "outputs": [
    {
     "name": "stdout",
     "output_type": "stream",
     "text": [
      "All files found!\n"
     ]
    }
   ],
   "source": [
    "\"\"\"\n",
    "DON'T MODIFY ANYTHING IN THIS CELL THAT IS BELOW THIS LINE\n",
    "\"\"\"\n",
    "from urllib.request import urlretrieve\n",
    "from os.path import isfile, isdir\n",
    "from tqdm import tqdm\n",
    "import problem_unittests as tests\n",
    "import tarfile\n",
    "\n",
    "cifar10_dataset_folder_path = 'cifar-10-batches-py'\n",
    "\n",
    "class DLProgress(tqdm):\n",
    "    last_block = 0\n",
    "\n",
    "    def hook(self, block_num=1, block_size=1, total_size=None):\n",
    "        self.total = total_size\n",
    "        self.update((block_num - self.last_block) * block_size)\n",
    "        self.last_block = block_num\n",
    "\n",
    "if not isfile('cifar-10-python.tar.gz'):\n",
    "    with DLProgress(unit='B', unit_scale=True, miniters=1, desc='CIFAR-10 Dataset') as pbar:\n",
    "        urlretrieve(\n",
    "            'https://www.cs.toronto.edu/~kriz/cifar-10-python.tar.gz',\n",
    "            'cifar-10-python.tar.gz',\n",
    "            pbar.hook)\n",
    "\n",
    "if not isdir(cifar10_dataset_folder_path):\n",
    "    with tarfile.open('cifar-10-python.tar.gz') as tar:\n",
    "        tar.extractall()\n",
    "        tar.close()\n",
    "\n",
    "\n",
    "tests.test_folder_path(cifar10_dataset_folder_path)"
   ]
  },
  {
   "cell_type": "markdown",
   "metadata": {
    "deletable": true,
    "editable": true
   },
   "source": [
    "## Explore the Data\n",
    "The dataset is broken into batches to prevent your machine from running out of memory.  The CIFAR-10 dataset consists of 5 batches, named `data_batch_1`, `data_batch_2`, etc.. Each batch contains the labels and images that are one of the following:\n",
    "* airplane\n",
    "* automobile\n",
    "* bird\n",
    "* cat\n",
    "* deer\n",
    "* dog\n",
    "* frog\n",
    "* horse\n",
    "* ship\n",
    "* truck\n",
    "\n",
    "Understanding a dataset is part of making predictions on the data.  Play around with the code cell below by changing the `batch_id` and `sample_id`. The `batch_id` is the id for a batch (1-5). The `sample_id` is the id for a image and label pair in the batch.\n",
    "\n",
    "Ask yourself \"What are all possible labels?\", \"What is the range of values for the image data?\", \"Are the labels in order or random?\".  Answers to questions like these will help you preprocess the data and end up with better predictions."
   ]
  },
  {
   "cell_type": "code",
   "execution_count": 2,
   "metadata": {
    "collapsed": false,
    "deletable": true,
    "editable": true
   },
   "outputs": [
    {
     "name": "stdout",
     "output_type": "stream",
     "text": [
      "\n",
      "Stats of batch 5:\n",
      "Samples: 10000\n",
      "Label Counts: {0: 1014, 1: 1014, 2: 952, 3: 1016, 4: 997, 5: 1025, 6: 980, 7: 977, 8: 1003, 9: 1022}\n",
      "First 20 Labels: [1, 8, 5, 1, 5, 7, 4, 3, 8, 2, 7, 2, 0, 1, 5, 9, 6, 2, 0, 8]\n",
      "\n",
      "Example of Image 1000:\n",
      "Image - Min Value: 28 Max Value: 228\n",
      "Image - Shape: (32, 32, 3)\n",
      "Label - Label Id: 7 Name: horse\n"
     ]
    },
    {
     "data": {
      "image/png": "[encoded data removed]",
      "text/plain": [
       "<matplotlib.figure.Figure at 0x4d0f240>"
      ]
     },
     "metadata": {
      "image/png": {
       "height": 250,
       "width": 253
      }
     },
     "output_type": "display_data"
    }
   ],
   "source": [
    "%matplotlib inline\n",
    "%config InlineBackend.figure_format = 'retina'\n",
    "\n",
    "import helper\n",
    "import numpy as np\n",
    "\n",
    "# Explore the dataset\n",
    "batch_id = 5\n",
    "sample_id = 1000\n",
    "helper.display_stats(cifar10_dataset_folder_path, batch_id, sample_id)"
   ]
  },
  {
   "cell_type": "markdown",
   "metadata": {
    "deletable": true,
    "editable": true
   },
   "source": [
    "## Implement Preprocess Functions\n",
    "### Normalize\n",
    "In the cell below, implement the `normalize` function to take in image data, `x`, and return it as a normalized Numpy array. The values should be in the range of 0 to 1, inclusive.  The return object should be the same shape as `x`."
   ]
  },
  {
   "cell_type": "code",
   "execution_count": 3,
   "metadata": {
    "collapsed": false,
    "deletable": true,
    "editable": true
   },
   "outputs": [
    {
     "name": "stdout",
     "output_type": "stream",
     "text": [
      "Tests Passed\n"
     ]
    }
   ],
   "source": [
    "def normalize(x):\n",
    "    \"\"\"\n",
    "    Normalize a list of sample image data in the range of 0 to 1\n",
    "    : x: List of image data.  The image shape is (32, 32, 3)\n",
    "    : return: Numpy array of normalize data\n",
    "    \"\"\"\n",
    "    x_min = x.min(axis=(1, 2), keepdims=True)\n",
    "    x_max = x.max(axis=(1, 2), keepdims=True)\n",
    "    \n",
    "    x = (x - x_min)/(x_max-x_min)\n",
    "    \n",
    "    return x\n",
    "\n",
    "\n",
    "\"\"\"\n",
    "DON'T MODIFY ANYTHING IN THIS CELL THAT IS BELOW THIS LINE\n",
    "\"\"\"\n",
    "tests.test_normalize(normalize)"
   ]
  },
  {
   "cell_type": "markdown",
   "metadata": {
    "deletable": true,
    "editable": true
   },
   "source": [
    "### One-hot encode\n",
    "Just like the previous code cell, you'll be implementing a function for preprocessing.  This time, you'll implement the `one_hot_encode` function. The input, `x`, are a list of labels.  Implement the function to return the list of labels as One-Hot encoded Numpy array.  The possible values for labels are 0 to 9. The one-hot encoding function should return the same encoding for each value between each call to `one_hot_encode`.  Make sure to save the map of encodings outside the function.\n",
    "\n",
    "Hint: Don't reinvent the wheel."
   ]
  },
  {
   "cell_type": "code",
   "execution_count": 4,
   "metadata": {
    "collapsed": false,
    "deletable": true,
    "editable": true
   },
   "outputs": [
    {
     "name": "stdout",
     "output_type": "stream",
     "text": [
      "Tests Passed\n"
     ]
    }
   ],
   "source": [
    "def one_hot_encode(x):\n",
    "    \"\"\"\n",
    "    One hot encode a list of sample labels. Return a one-hot encoded vector for each label.\n",
    "    : x: List of sample Labels\n",
    "    : return: Numpy array of one-hot encoded labels\n",
    "    \"\"\"\n",
    "    x = np.array(x)\n",
    "    # set the number of rows and columns in the new array\n",
    "    n_row = x.size\n",
    "    n_col = 10\n",
    "    # make a new array full of zeros\n",
    "    ohe = np.zeros((n_row, n_col))\n",
    "    # the ones columns are just at the given locations\n",
    "    ohe[np.arange(n_row), x] = 1\n",
    "    return ohe\n",
    "\n",
    "\n",
    "\"\"\"\n",
    "DON'T MODIFY ANYTHING IN THIS CELL THAT IS BELOW THIS LINE\n",
    "\"\"\"\n",
    "tests.test_one_hot_encode(one_hot_encode)"
   ]
  },
  {
   "cell_type": "markdown",
   "metadata": {
    "deletable": true,
    "editable": true
   },
   "source": [
    "### Randomize Data\n",
    "As you saw from exploring the data above, the order of the samples are randomized.  It doesn't hurt to randomize it again, but you don't need to for this dataset."
   ]
  },
  {
   "cell_type": "markdown",
   "metadata": {
    "deletable": true,
    "editable": true
   },
   "source": [
    "## Preprocess all the data and save it\n",
    "Running the code cell below will preprocess all the CIFAR-10 data and save it to file. The code below also uses 10% of the training data for validation."
   ]
  },
  {
   "cell_type": "code",
   "execution_count": 5,
   "metadata": {
    "collapsed": false,
    "deletable": true,
    "editable": true
   },
   "outputs": [],
   "source": [
    "\"\"\"\n",
    "DON'T MODIFY ANYTHING IN THIS CELL\n",
    "\"\"\"\n",
    "# Preprocess Training, Validation, and Testing Data\n",
    "helper.preprocess_and_save_data(cifar10_dataset_folder_path, normalize, one_hot_encode)"
   ]
  },
  {
   "cell_type": "markdown",
   "metadata": {
    "deletable": true,
    "editable": true
   },
   "source": [
    "# Check Point\n",
    "This is your first checkpoint.  If you ever decide to come back to this notebook or have to restart the notebook, you can start from here.  The preprocessed data has been saved to disk."
   ]
  },
  {
   "cell_type": "code",
   "execution_count": 1,
   "metadata": {
    "collapsed": true,
    "deletable": true,
    "editable": true
   },
   "outputs": [],
   "source": [
    "\"\"\"\n",
    "DON'T MODIFY ANYTHING IN THIS CELL\n",
    "\"\"\"\n",
    "import pickle\n",
    "import problem_unittests as tests\n",
    "import helper\n",
    "\n",
    "# Load the Preprocessed Validation data\n",
    "valid_features, valid_labels = pickle.load(open('preprocess_validation.p', mode='rb'))"
   ]
  },
  {
   "cell_type": "markdown",
   "metadata": {
    "deletable": true,
    "editable": true
   },
   "source": [
    "## Build the network\n",
    "For the neural network, you'll build each layer into a function.  Most of the code you've seen has been outside of functions. To test your code more thoroughly, we require that you put each layer in a function.  This allows us to give you better feedback and test for simple mistakes using our unittests before you submit your project.\n",
    "\n",
    "If you're finding it hard to dedicate enough time for this course a week, we've provided a small shortcut to this part of the project. In the next couple of problems, you'll have the option to use [TensorFlow Layers](https://www.tensorflow.org/api_docs/python/tf/layers) or [TensorFlow Layers (contrib)](https://www.tensorflow.org/api_guides/python/contrib.layers) to build each layer, except \"Convolutional & Max Pooling\" layer.  TF Layers is similar to Keras's and TFLearn's abstraction to layers, so it's easy to pickup.\n",
    "\n",
    "If you would like to get the most of this course, try to solve all the problems without TF Layers.  Let's begin!\n",
    "### Input\n",
    "The neural network needs to read the image data, one-hot encoded labels, and dropout keep probability. Implement the following functions\n",
    "* Implement `neural_net_image_input`\n",
    " * Return a [TF Placeholder](https://www.tensorflow.org/api_docs/python/tf/placeholder)\n",
    " * Set the shape using `image_shape` with batch size set to `None`.\n",
    " * Name the TensorFlow placeholder \"x\" using the TensorFlow `name` parameter in the [TF Placeholder](https://www.tensorflow.org/api_docs/python/tf/placeholder).\n",
    "* Implement `neural_net_label_input`\n",
    " * Return a [TF Placeholder](https://www.tensorflow.org/api_docs/python/tf/placeholder)\n",
    " * Set the shape using `n_classes` with batch size set to `None`.\n",
    " * Name the TensorFlow placeholder \"y\" using the TensorFlow `name` parameter in the [TF Placeholder](https://www.tensorflow.org/api_docs/python/tf/placeholder).\n",
    "* Implement `neural_net_keep_prob_input`\n",
    " * Return a [TF Placeholder](https://www.tensorflow.org/api_docs/python/tf/placeholder) for dropout keep probability.\n",
    " * Name the TensorFlow placeholder \"keep_prob\" using the TensorFlow `name` parameter in the [TF Placeholder](https://www.tensorflow.org/api_docs/python/tf/placeholder).\n",
    "\n",
    "These names will be used at the end of the project to load your saved model.\n",
    "\n",
    "Note: `None` for shapes in TensorFlow allow for a dynamic size."
   ]
  },
  {
   "cell_type": "code",
   "execution_count": 2,
   "metadata": {
    "collapsed": false,
    "deletable": true,
    "editable": true
   },
   "outputs": [
    {
     "name": "stdout",
     "output_type": "stream",
     "text": [
      "Image Input Tests Passed.\n",
      "Label Input Tests Passed.\n",
      "Keep Prob Tests Passed.\n"
     ]
    }
   ],
   "source": [
    "import tensorflow as tf\n",
    "\n",
    "def neural_net_image_input(image_shape):\n",
    "    \"\"\"\n",
    "    Return a Tensor for a bach of image input\n",
    "    : image_shape: Shape of the images\n",
    "    : return: Tensor for image input.\n",
    "    \"\"\"\n",
    "    image_shape = list(image_shape)\n",
    "    shape = [None] + image_shape\n",
    "    return tf.placeholder(tf.float32, shape=shape, name='x')\n",
    "\n",
    "\n",
    "def neural_net_label_input(n_classes):\n",
    "    \"\"\"\n",
    "    Return a Tensor for a batch of label input\n",
    "    : n_classes: Number of classes\n",
    "    : return: Tensor for label input.\n",
    "    \"\"\"\n",
    "    shape = [None, n_classes]\n",
    "    return tf.placeholder(tf.float32, shape=shape, name='y')\n",
    "\n",
    "\n",
    "def neural_net_keep_prob_input():\n",
    "    \"\"\"\n",
    "    Return a Tensor for keep probability\n",
    "    : return: Tensor for keep probability.\n",
    "    \"\"\"\n",
    "    shape = None\n",
    "    return tf.placeholder(tf.float32, shape=shape, name='keep_prob')\n",
    "\n",
    "\n",
    "\"\"\"\n",
    "DON'T MODIFY ANYTHING IN THIS CELL THAT IS BELOW THIS LINE\n",
    "\"\"\"\n",
    "tf.reset_default_graph()\n",
    "tests.test_nn_image_inputs(neural_net_image_input)\n",
    "tests.test_nn_label_inputs(neural_net_label_input)\n",
    "tests.test_nn_keep_prob_inputs(neural_net_keep_prob_input)"
   ]
  },
  {
   "cell_type": "markdown",
   "metadata": {
    "deletable": true,
    "editable": true
   },
   "source": [
    "### Convolution and Max Pooling Layer\n",
    "Convolution layers have a lot of success with images. For this code cell, you should implement the function `conv2d_maxpool` to apply convolution then max pooling:\n",
    "* Create the weight and bias using `conv_ksize`, `conv_num_outputs` and the shape of `x_tensor`.\n",
    "* Apply a convolution to `x_tensor` using weight and `conv_strides`.\n",
    " * We recommend you use same padding, but you're welcome to use any padding.\n",
    "* Add bias\n",
    "* Add a nonlinear activation to the convolution.\n",
    "* Apply Max Pooling using `pool_ksize` and `pool_strides`.\n",
    " * We recommend you use same padding, but you're welcome to use any padding.\n",
    "\n",
    "Note: You **can't** use [TensorFlow Layers](https://www.tensorflow.org/api_docs/python/tf/layers) or [TensorFlow Layers (contrib)](https://www.tensorflow.org/api_guides/python/contrib.layers) for this layer.  You're free to use any TensorFlow package for all the other layers."
   ]
  },
  {
   "cell_type": "code",
   "execution_count": 3,
   "metadata": {
    "collapsed": false,
    "deletable": true,
    "editable": true
   },
   "outputs": [
    {
     "name": "stdout",
     "output_type": "stream",
     "text": [
      "Tests Passed\n"
     ]
    }
   ],
   "source": [
    "def conv2d_maxpool(x_tensor, conv_num_outputs, conv_ksize, conv_strides, pool_ksize, pool_strides):\n",
    "    \"\"\"\n",
    "    Apply convolution then max pooling to x_tensor\n",
    "    :param x_tensor: TensorFlow Tensor\n",
    "    :param conv_num_outputs: Number of outputs for the convolutional layer\n",
    "    :param conv_ksize: kernal size 2-D Tuple for the convolutional layer\n",
    "    :param conv_strides: Stride 2-D Tuple for convolution\n",
    "    :param pool_ksize: kernal size 2-D Tuple for pool\n",
    "    :param pool_strides: Stride 2-D Tuple for pool\n",
    "    : return: A tensor that represents convolution and max pooling of x_tensor\n",
    "    \"\"\"\n",
    "    # input shape\n",
    "    in_shape = x_tensor.get_shape().as_list()\n",
    "    # set up filter weights and bias\n",
    "    filter_W = tf.Variable(tf.truncated_normal((conv_ksize[0], \n",
    "                                                conv_ksize[1], \n",
    "                                                in_shape[3], \n",
    "                                                conv_num_outputs), \n",
    "                                               stddev=.05))\n",
    "    filter_b = tf.Variable(tf.zeros(conv_num_outputs,))\n",
    "    # set up filter strides and padding\n",
    "    strides = [1, conv_strides[0], conv_strides[1], 1]\n",
    "    padding = 'SAME'\n",
    "    \n",
    "    # convolutional layer\n",
    "    conv_layer = tf.nn.relu(tf.nn.conv2d(x_tensor, filter_W, strides, padding) + filter_b)\n",
    "    # max pooling layer\n",
    "    ksize = [1, pool_ksize[0], pool_ksize[1], 1]\n",
    "    stride = [1, pool_strides[0], pool_strides[1], 1]\n",
    "    max_layer = tf.nn.max_pool(conv_layer, ksize, stride, padding)\n",
    "    \n",
    "    return max_layer \n",
    "\n",
    "\n",
    "\"\"\"\n",
    "DON'T MODIFY ANYTHING IN THIS CELL THAT IS BELOW THIS LINE\n",
    "\"\"\"\n",
    "tests.test_con_pool(conv2d_maxpool)"
   ]
  },
  {
   "cell_type": "markdown",
   "metadata": {
    "deletable": true,
    "editable": true
   },
   "source": [
    "### Flatten Layer\n",
    "Implement the `flatten` function to change the dimension of `x_tensor` from a 4-D tensor to a 2-D tensor.  The output should be the shape (*Batch Size*, *Flattened Image Size*). You can use [TensorFlow Layers](https://www.tensorflow.org/api_docs/python/tf/layers) or [TensorFlow Layers (contrib)](https://www.tensorflow.org/api_guides/python/contrib.layers) for this layer."
   ]
  },
  {
   "cell_type": "code",
   "execution_count": 4,
   "metadata": {
    "collapsed": false,
    "deletable": true,
    "editable": true
   },
   "outputs": [
    {
     "name": "stdout",
     "output_type": "stream",
     "text": [
      "Tests Passed\n"
     ]
    }
   ],
   "source": [
    "def flatten(x_tensor):\n",
    "    \"\"\"\n",
    "    Flatten x_tensor to (Batch Size, Flattened Image Size)\n",
    "    : x_tensor: A tensor of size (Batch Size, ...), where ... are the image dimensions.\n",
    "    : return: A tensor of size (Batch Size, Flattened Image Size).\n",
    "    \"\"\"\n",
    "    shape = x_tensor.get_shape().as_list()\n",
    "    img_size_flatten =   shape[1] * shape[2] * shape[3]\n",
    "    \n",
    "    return tf.reshape(x_tensor, (-1, img_size_flatten))\n",
    "\n",
    "\"\"\"\n",
    "DON'T MODIFY ANYTHING IN THIS CELL THAT IS BELOW THIS LINE\n",
    "\"\"\"\n",
    "tests.test_flatten(flatten)"
   ]
  },
  {
   "cell_type": "markdown",
   "metadata": {
    "deletable": true,
    "editable": true
   },
   "source": [
    "### Fully-Connected Layer\n",
    "Implement the `fully_conn` function to apply a fully connected layer to `x_tensor` with the shape (*Batch Size*, *num_outputs*). You can use [TensorFlow Layers](https://www.tensorflow.org/api_docs/python/tf/layers) or [TensorFlow Layers (contrib)](https://www.tensorflow.org/api_guides/python/contrib.layers) for this layer."
   ]
  },
  {
   "cell_type": "code",
   "execution_count": 5,
   "metadata": {
    "collapsed": false,
    "deletable": true,
    "editable": true
   },
   "outputs": [
    {
     "name": "stdout",
     "output_type": "stream",
     "text": [
      "Tests Passed\n"
     ]
    }
   ],
   "source": [
    "def fully_conn(x_tensor, num_outputs):\n",
    "    \"\"\"\n",
    "    Apply a fully connected layer to x_tensor using weight and bias\n",
    "    : x_tensor: A 2-D tensor where the first dimension is batch size.\n",
    "    : num_outputs: The number of output that the new tensor should be.\n",
    "    : return: A 2-D tensor where the second dimension is num_outputs.\n",
    "    \"\"\"\n",
    "    shape = x_tensor.get_shape().as_list()\n",
    "    weight = tf.Variable(tf.random_normal([shape[1], num_outputs]))\n",
    "    bias = tf.Variable(tf.random_normal([num_outputs]))\n",
    "    \n",
    "    fc = tf.add(tf.matmul(x_tensor, weight), bias)\n",
    "    fc = tf.nn.relu(fc)\n",
    "    \n",
    "    return fc\n",
    "\n",
    "\n",
    "\"\"\"\n",
    "DON'T MODIFY ANYTHING IN THIS CELL THAT IS BELOW THIS LINE\n",
    "\"\"\"\n",
    "tests.test_fully_conn(fully_conn)"
   ]
  },
  {
   "cell_type": "markdown",
   "metadata": {
    "deletable": true,
    "editable": true
   },
   "source": [
    "### Output Layer\n",
    "Implement the `output` function to apply a fully connected layer to `x_tensor` with the shape (*Batch Size*, *num_outputs*). You can use [TensorFlow Layers](https://www.tensorflow.org/api_docs/python/tf/layers) or [TensorFlow Layers (contrib)](https://www.tensorflow.org/api_guides/python/contrib.layers) for this layer.\n",
    "\n",
    "Note: Activation, softmax, or cross entropy shouldn't be applied to this."
   ]
  },
  {
   "cell_type": "code",
   "execution_count": 6,
   "metadata": {
    "collapsed": false,
    "deletable": true,
    "editable": true
   },
   "outputs": [
    {
     "name": "stdout",
     "output_type": "stream",
     "text": [
      "Tests Passed\n"
     ]
    }
   ],
   "source": [
    "def output(x_tensor, num_outputs):\n",
    "    \"\"\"\n",
    "    Apply a output layer to x_tensor using weight and bias\n",
    "    : x_tensor: A 2-D tensor where the first dimension is batch size.\n",
    "    : num_outputs: The number of output that the new tensor should be.\n",
    "    : return: A 2-D tensor where the second dimension is num_outputs.\n",
    "    \"\"\"\n",
    "    shape = x_tensor.get_shape().as_list()\n",
    "    weight = tf.Variable(tf.random_normal([shape[1], num_outputs]))\n",
    "    bias = tf.Variable(tf.random_normal([num_outputs]))\n",
    "    \n",
    "    output = tf.add(tf.matmul(x_tensor, weight), bias)\n",
    "    \n",
    "    return output\n",
    "    \n",
    "\n",
    "\"\"\"\n",
    "DON'T MODIFY ANYTHING IN THIS CELL THAT IS BELOW THIS LINE\n",
    "\"\"\"\n",
    "tests.test_output(output)"
   ]
  },
  {
   "cell_type": "markdown",
   "metadata": {
    "deletable": true,
    "editable": true
   },
   "source": [
    "### Create Convolutional Model\n",
    "Implement the function `conv_net` to create a convolutional neural network model. The function takes in a batch of images, `x`, and outputs logits.  Use the layers you created above to create this model:\n",
    "\n",
    "* Apply 1, 2, or 3 Convolution and Max Pool layers\n",
    "* Apply a Flatten Layer\n",
    "* Apply 1, 2, or 3 Fully Connected Layers\n",
    "* Apply an Output Layer\n",
    "* Return the output\n",
    "* Apply [TensorFlow's Dropout](https://www.tensorflow.org/api_docs/python/tf/nn/dropout) to one or more layers in the model using `keep_prob`. "
   ]
  },
  {
   "cell_type": "code",
   "execution_count": 7,
   "metadata": {
    "collapsed": false,
    "deletable": true,
    "editable": true
   },
   "outputs": [
    {
     "name": "stdout",
     "output_type": "stream",
     "text": [
      "Neural Network Built!\n"
     ]
    }
   ],
   "source": [
    "def conv_net(x, keep_prob):\n",
    "    \"\"\"\n",
    "    Create a convolutional neural network model\n",
    "    : x: Placeholder tensor that holds image data.\n",
    "    : keep_prob: Placeholder tensor that hold dropout keep probability.\n",
    "    : return: Tensor that represents logits\n",
    "    \"\"\"\n",
    "    # TODO: Apply 1, 2, or 3 Convolution and Max Pool layers\n",
    "    #    Play around with different number of outputs, kernel size and stride\n",
    "    # Function Definition from Above:\n",
    "    #    conv2d_maxpool(x_tensor, conv_num_outputs, conv_ksize, conv_strides, pool_ksize, pool_strides)\n",
    "    conv = conv2d_maxpool(x_tensor=x, \n",
    "                          conv_num_outputs=32, \n",
    "                          conv_ksize=(2, 2), \n",
    "                          conv_strides=(1, 1),\n",
    "                          pool_ksize=(2, 2), \n",
    "                          pool_strides=(2, 2))\n",
    "\n",
    "    \n",
    "    # second convolutional layer\n",
    "    conv = conv2d_maxpool(x_tensor=conv, \n",
    "                          conv_num_outputs=64, \n",
    "                          conv_ksize=(2, 2), \n",
    "                          conv_strides=(1, 1),\n",
    "                          pool_ksize=(2, 2), \n",
    "                          pool_strides=(2, 2))\n",
    "    \n",
    "    # third convolutional layer\n",
    "    #conv = conv2d_maxpool(x_tensor=x, \n",
    "    #                      conv_num_outputs=128, \n",
    "    #                      conv_ksize=(2, 2), \n",
    "    #                      conv_strides=(1, 1),\n",
    "    #                      pool_ksize=(2, 2), \n",
    "    #                      pool_strides=(2, 2))\n",
    "    \n",
    "    # dropout layer\n",
    "    conv = tf.nn.dropout(x=conv,\n",
    "                         keep_prob=keep_prob)\n",
    "    \n",
    "    # TODO: Apply a Flatten Layer\n",
    "    # Function Definition from Above:\n",
    "    #   flatten(x_tensor)\n",
    "    flat = flatten(conv)\n",
    "\n",
    "    # TODO: Apply 1, 2, or 3 Fully Connected Layers\n",
    "    #    Play around with different number of outputs\n",
    "    # Function Definition from Above:\n",
    "    #   fully_conn(x_tensor, num_outputs)\n",
    "    fc = fully_conn(x_tensor=flat, \n",
    "                    num_outputs=128)\n",
    "    \n",
    "    # dropout layer\n",
    "    #fc = tf.nn.dropout(x=fc, \n",
    "    #                   keep_prob=keep_prob)\n",
    "    \n",
    "    # TODO: Apply an Output Layer\n",
    "    #    Set this to the number of classes\n",
    "    # Function Definition from Above:\n",
    "    #   output(x_tensor, num_outputs)\n",
    "    out = output(x_tensor=fc, \n",
    "                 num_outputs=10)\n",
    "    \n",
    "    # TODO: return output\n",
    "    return out\n",
    "\n",
    "\n",
    "\"\"\"\n",
    "DON'T MODIFY ANYTHING IN THIS CELL THAT IS BELOW THIS LINE\n",
    "\"\"\"\n",
    "\n",
    "##############################\n",
    "## Build the Neural Network ##\n",
    "##############################\n",
    "\n",
    "# Remove previous weights, bias, inputs, etc..\n",
    "tf.reset_default_graph()\n",
    "\n",
    "# Inputs\n",
    "x = neural_net_image_input((32, 32, 3))\n",
    "y = neural_net_label_input(10)\n",
    "keep_prob = neural_net_keep_prob_input()\n",
    "\n",
    "# Model\n",
    "logits = conv_net(x, keep_prob)\n",
    "\n",
    "# Name logits Tensor, so that is can be loaded from disk after training\n",
    "logits = tf.identity(logits, name='logits')\n",
    "\n",
    "# Loss and Optimizer\n",
    "cost = tf.reduce_mean(tf.nn.softmax_cross_entropy_with_logits(logits=logits, labels=y))\n",
    "optimizer = tf.train.AdamOptimizer().minimize(cost)\n",
    "\n",
    "# Accuracy\n",
    "correct_pred = tf.equal(tf.argmax(logits, 1), tf.argmax(y, 1))\n",
    "accuracy = tf.reduce_mean(tf.cast(correct_pred, tf.float32), name='accuracy')\n",
    "\n",
    "tests.test_conv_net(conv_net)"
   ]
  },
  {
   "cell_type": "markdown",
   "metadata": {
    "deletable": true,
    "editable": true
   },
   "source": [
    "## Train the Neural Network\n",
    "### Single Optimization\n",
    "Implement the function `train_neural_network` to do a single optimization.  The optimization should use `optimizer` to optimize in `session` with a `feed_dict` of the following:\n",
    "* `x` for image input\n",
    "* `y` for labels\n",
    "* `keep_prob` for keep probability for dropout\n",
    "\n",
    "This function will be called for each batch, so `tf.global_variables_initializer()` has already been called.\n",
    "\n",
    "Note: Nothing needs to be returned. This function is only optimizing the neural network."
   ]
  },
  {
   "cell_type": "code",
   "execution_count": 8,
   "metadata": {
    "collapsed": false,
    "deletable": true,
    "editable": true
   },
   "outputs": [
    {
     "name": "stdout",
     "output_type": "stream",
     "text": [
      "Tests Passed\n"
     ]
    }
   ],
   "source": [
    "def train_neural_network(session, optimizer, keep_probability, feature_batch, label_batch):\n",
    "    \"\"\"\n",
    "    Optimize the session on a batch of images and labels\n",
    "    : session: Current TensorFlow session\n",
    "    : optimizer: TensorFlow optimizer function\n",
    "    : keep_probability: keep probability\n",
    "    : feature_batch: Batch of Numpy image data\n",
    "    : label_batch: Batch of Numpy label data\n",
    "    \"\"\"\n",
    "    session.run(optimizer, feed_dict={x: feature_batch, \n",
    "                                      y: label_batch, \n",
    "                                      keep_prob: keep_probability})\n",
    "    \n",
    "\n",
    "\n",
    "\"\"\"\n",
    "DON'T MODIFY ANYTHING IN THIS CELL THAT IS BELOW THIS LINE\n",
    "\"\"\"\n",
    "tests.test_train_nn(train_neural_network)"
   ]
  },
  {
   "cell_type": "markdown",
   "metadata": {
    "deletable": true,
    "editable": true
   },
   "source": [
    "### Show Stats\n",
    "Implement the function `print_stats` to print loss and validation accuracy.  Use the global variables `valid_features` and `valid_labels` to calculate validation accuracy.  Use a keep probability of `1.0` to calculate the loss and validation accuracy."
   ]
  },
  {
   "cell_type": "code",
   "execution_count": 10,
   "metadata": {
    "collapsed": false,
    "deletable": true,
    "editable": true
   },
   "outputs": [],
   "source": [
    "def print_stats(session, feature_batch, label_batch, cost, accuracy):\n",
    "    \"\"\"\n",
    "    Print information about loss and validation accuracy\n",
    "    : session: Current TensorFlow session\n",
    "    : feature_batch: Batch of Numpy image data\n",
    "    : label_batch: Batch of Numpy label data\n",
    "    : cost: TensorFlow cost function\n",
    "    : accuracy: TensorFlow accuracy function\n",
    "    \"\"\"\n",
    "    \n",
    "    loss = session.run(cost, feed_dict={x: feature_batch,\n",
    "                                        y: label_batch,\n",
    "                                        keep_prob: 1.0})\n",
    "    \n",
    "    validate_accuracy = session.run(accuracy, feed_dict={x: valid_features,\n",
    "                                                         y: valid_labels,\n",
    "                                                         keep_prob:1.0})\n",
    "    \n",
    "    print('loss: ' + str(loss) + '   ' + 'accuracy: ' + str(validate_accuracy))"
   ]
  },
  {
   "cell_type": "markdown",
   "metadata": {
    "deletable": true,
    "editable": true
   },
   "source": [
    "### Hyperparameters\n",
    "Tune the following parameters:\n",
    "* Set `epochs` to the number of iterations until the network stops learning or start overfitting\n",
    "* Set `batch_size` to the highest number that your machine has memory for.  Most people set them to common sizes of memory:\n",
    " * 64\n",
    " * 128\n",
    " * 256\n",
    " * ...\n",
    "* Set `keep_probability` to the probability of keeping a node using dropout"
   ]
  },
  {
   "cell_type": "code",
   "execution_count": 12,
   "metadata": {
    "collapsed": true,
    "deletable": true,
    "editable": true
   },
   "outputs": [],
   "source": [
    "# TODO: Tune Parameters\n",
    "epochs = 30\n",
    "batch_size = 256\n",
    "keep_probability = .6"
   ]
  },
  {
   "cell_type": "markdown",
   "metadata": {
    "deletable": true,
    "editable": true
   },
   "source": [
    "### Train on a Single CIFAR-10 Batch\n",
    "Instead of training the neural network on all the CIFAR-10 batches of data, let's use a single batch. This should save time while you iterate on the model to get a better accuracy.  Once the final validation accuracy is 50% or greater, run the model on all the data in the next section."
   ]
  },
  {
   "cell_type": "code",
   "execution_count": 13,
   "metadata": {
    "collapsed": false,
    "deletable": true,
    "editable": true,
    "scrolled": false
   },
   "outputs": [
    {
     "name": "stdout",
     "output_type": "stream",
     "text": [
      "Checking the Training on a Single Batch...\n",
      "Epoch  1, CIFAR-10 Batch 1:  loss: 3.08881   accuracy: 0.1408\n",
      "Epoch  2, CIFAR-10 Batch 1:  loss: 2.31404   accuracy: 0.1794\n",
      "Epoch  3, CIFAR-10 Batch 1:  loss: 2.14338   accuracy: 0.2168\n",
      "Epoch  4, CIFAR-10 Batch 1:  loss: 1.94527   accuracy: 0.2472\n",
      "Epoch  5, CIFAR-10 Batch 1:  loss: 1.90113   accuracy: 0.2498\n",
      "Epoch  6, CIFAR-10 Batch 1:  loss: 2.08773   accuracy: 0.238\n",
      "Epoch  7, CIFAR-10 Batch 1:  loss: 1.77959   accuracy: 0.2986\n",
      "Epoch  8, CIFAR-10 Batch 1:  loss: 1.80266   accuracy: 0.3118\n",
      "Epoch  9, CIFAR-10 Batch 1:  loss: 1.73331   accuracy: 0.316\n",
      "Epoch 10, CIFAR-10 Batch 1:  loss: 1.70989   accuracy: 0.3376\n",
      "Epoch 11, CIFAR-10 Batch 1:  loss: 1.65525   accuracy: 0.3614\n",
      "Epoch 12, CIFAR-10 Batch 1:  loss: 1.63548   accuracy: 0.3698\n",
      "Epoch 13, CIFAR-10 Batch 1:  loss: 1.52051   accuracy: 0.3784\n",
      "Epoch 14, CIFAR-10 Batch 1:  loss: 1.46487   accuracy: 0.4008\n",
      "Epoch 15, CIFAR-10 Batch 1:  loss: 1.46558   accuracy: 0.3988\n",
      "Epoch 16, CIFAR-10 Batch 1:  loss: 1.40513   accuracy: 0.422\n",
      "Epoch 17, CIFAR-10 Batch 1:  loss: 1.34191   accuracy: 0.4356\n",
      "Epoch 18, CIFAR-10 Batch 1:  loss: 1.31761   accuracy: 0.4414\n",
      "Epoch 19, CIFAR-10 Batch 1:  loss: 1.27576   accuracy: 0.4578\n",
      "Epoch 20, CIFAR-10 Batch 1:  loss: 1.26926   accuracy: 0.459\n",
      "Epoch 21, CIFAR-10 Batch 1:  loss: 1.25181   accuracy: 0.4636\n",
      "Epoch 22, CIFAR-10 Batch 1:  loss: 1.17002   accuracy: 0.468\n",
      "Epoch 23, CIFAR-10 Batch 1:  loss: 1.17278   accuracy: 0.4752\n",
      "Epoch 24, CIFAR-10 Batch 1:  loss: 1.08691   accuracy: 0.4882\n",
      "Epoch 25, CIFAR-10 Batch 1:  loss: 1.07501   accuracy: 0.4834\n",
      "Epoch 26, CIFAR-10 Batch 1:  loss: 1.09043   accuracy: 0.492\n",
      "Epoch 27, CIFAR-10 Batch 1:  loss: 1.0767   accuracy: 0.4924\n",
      "Epoch 28, CIFAR-10 Batch 1:  loss: 1.04889   accuracy: 0.5012\n",
      "Epoch 29, CIFAR-10 Batch 1:  loss: 1.00295   accuracy: 0.5128\n",
      "Epoch 30, CIFAR-10 Batch 1:  loss: 0.99394   accuracy: 0.513\n"
     ]
    }
   ],
   "source": [
    "\"\"\"\n",
    "DON'T MODIFY ANYTHING IN THIS CELL\n",
    "\"\"\"\n",
    "print('Checking the Training on a Single Batch...')\n",
    "with tf.Session() as sess:\n",
    "    # Initializing the variables\n",
    "    sess.run(tf.global_variables_initializer())\n",
    "    \n",
    "    # Training cycle\n",
    "    for epoch in range(epochs):\n",
    "        batch_i = 1\n",
    "        for batch_features, batch_labels in helper.load_preprocess_training_batch(batch_i, batch_size):\n",
    "            train_neural_network(sess, optimizer, keep_probability, batch_features, batch_labels)\n",
    "        print('Epoch {:>2}, CIFAR-10 Batch {}:  '.format(epoch + 1, batch_i), end='')\n",
    "        print_stats(sess, batch_features, batch_labels, cost, accuracy)"
   ]
  },
  {
   "cell_type": "markdown",
   "metadata": {
    "deletable": true,
    "editable": true
   },
   "source": [
    "### Fully Train the Model\n",
    "Now that you got a good accuracy with a single CIFAR-10 batch, try it with all five batches."
   ]
  },
  {
   "cell_type": "code",
   "execution_count": 14,
   "metadata": {
    "collapsed": false,
    "deletable": true,
    "editable": true
   },
   "outputs": [
    {
     "name": "stdout",
     "output_type": "stream",
     "text": [
      "Training...\n",
      "Epoch  1, CIFAR-10 Batch 1:  loss: 2.85386   accuracy: 0.1734\n",
      "Epoch  1, CIFAR-10 Batch 2:  loss: 2.32981   accuracy: 0.2004\n",
      "Epoch  1, CIFAR-10 Batch 3:  loss: 2.0701   accuracy: 0.2542\n",
      "Epoch  1, CIFAR-10 Batch 4:  loss: 1.91214   accuracy: 0.2662\n",
      "Epoch  1, CIFAR-10 Batch 5:  loss: 1.8486   accuracy: 0.3066\n",
      "Epoch  2, CIFAR-10 Batch 1:  loss: 1.7632   accuracy: 0.3074\n",
      "Epoch  2, CIFAR-10 Batch 2:  loss: 1.75705   accuracy: 0.3222\n",
      "Epoch  2, CIFAR-10 Batch 3:  loss: 1.76355   accuracy: 0.3562\n",
      "Epoch  2, CIFAR-10 Batch 4:  loss: 1.67063   accuracy: 0.3582\n",
      "Epoch  2, CIFAR-10 Batch 5:  loss: 1.67126   accuracy: 0.3722\n",
      "Epoch  3, CIFAR-10 Batch 1:  loss: 1.59433   accuracy: 0.382\n",
      "Epoch  3, CIFAR-10 Batch 2:  loss: 1.57394   accuracy: 0.3926\n",
      "Epoch  3, CIFAR-10 Batch 3:  loss: 1.61963   accuracy: 0.386\n",
      "Epoch  3, CIFAR-10 Batch 4:  loss: 1.45895   accuracy: 0.412\n",
      "Epoch  3, CIFAR-10 Batch 5:  loss: 1.57217   accuracy: 0.427\n",
      "Epoch  4, CIFAR-10 Batch 1:  loss: 1.50348   accuracy: 0.4328\n",
      "Epoch  4, CIFAR-10 Batch 2:  loss: 1.45418   accuracy: 0.4124\n",
      "Epoch  4, CIFAR-10 Batch 3:  loss: 1.46031   accuracy: 0.4256\n",
      "Epoch  4, CIFAR-10 Batch 4:  loss: 1.32399   accuracy: 0.4448\n",
      "Epoch  4, CIFAR-10 Batch 5:  loss: 1.46219   accuracy: 0.46\n",
      "Epoch  5, CIFAR-10 Batch 1:  loss: 1.43958   accuracy: 0.4532\n",
      "Epoch  5, CIFAR-10 Batch 2:  loss: 1.39508   accuracy: 0.4476\n",
      "Epoch  5, CIFAR-10 Batch 3:  loss: 1.40033   accuracy: 0.4648\n",
      "Epoch  5, CIFAR-10 Batch 4:  loss: 1.23675   accuracy: 0.4656\n",
      "Epoch  5, CIFAR-10 Batch 5:  loss: 1.33547   accuracy: 0.4772\n",
      "Epoch  6, CIFAR-10 Batch 1:  loss: 1.37766   accuracy: 0.5068\n",
      "Epoch  6, CIFAR-10 Batch 2:  loss: 1.21511   accuracy: 0.4924\n",
      "Epoch  6, CIFAR-10 Batch 3:  loss: 1.24285   accuracy: 0.4946\n",
      "Epoch  6, CIFAR-10 Batch 4:  loss: 1.20616   accuracy: 0.507\n",
      "Epoch  6, CIFAR-10 Batch 5:  loss: 1.26428   accuracy: 0.5108\n",
      "Epoch  7, CIFAR-10 Batch 1:  loss: 1.36707   accuracy: 0.5088\n",
      "Epoch  7, CIFAR-10 Batch 2:  loss: 1.18418   accuracy: 0.5108\n",
      "Epoch  7, CIFAR-10 Batch 3:  loss: 1.2514   accuracy: 0.4848\n",
      "Epoch  7, CIFAR-10 Batch 4:  loss: 1.07878   accuracy: 0.5182\n",
      "Epoch  7, CIFAR-10 Batch 5:  loss: 1.19786   accuracy: 0.5208\n",
      "Epoch  8, CIFAR-10 Batch 1:  loss: 1.22541   accuracy: 0.5448\n",
      "Epoch  8, CIFAR-10 Batch 2:  loss: 1.15905   accuracy: 0.5358\n",
      "Epoch  8, CIFAR-10 Batch 3:  loss: 1.09247   accuracy: 0.5354\n",
      "Epoch  8, CIFAR-10 Batch 4:  loss: 1.01091   accuracy: 0.5452\n",
      "Epoch  8, CIFAR-10 Batch 5:  loss: 1.15354   accuracy: 0.5422\n",
      "Epoch  9, CIFAR-10 Batch 1:  loss: 1.17791   accuracy: 0.5538\n",
      "Epoch  9, CIFAR-10 Batch 2:  loss: 1.07566   accuracy: 0.5546\n",
      "Epoch  9, CIFAR-10 Batch 3:  loss: 1.02145   accuracy: 0.5514\n",
      "Epoch  9, CIFAR-10 Batch 4:  loss: 0.980992   accuracy: 0.5424\n",
      "Epoch  9, CIFAR-10 Batch 5:  loss: 1.11553   accuracy: 0.5426\n",
      "Epoch 10, CIFAR-10 Batch 1:  loss: 1.09691   accuracy: 0.559\n",
      "Epoch 10, CIFAR-10 Batch 2:  loss: 1.01822   accuracy: 0.5482\n",
      "Epoch 10, CIFAR-10 Batch 3:  loss: 0.883798   accuracy: 0.5664\n",
      "Epoch 10, CIFAR-10 Batch 4:  loss: 0.935891   accuracy: 0.5762\n",
      "Epoch 10, CIFAR-10 Batch 5:  loss: 1.05339   accuracy: 0.582\n",
      "Epoch 11, CIFAR-10 Batch 1:  loss: 1.10967   accuracy: 0.5394\n",
      "Epoch 11, CIFAR-10 Batch 2:  loss: 1.02829   accuracy: 0.5616\n",
      "Epoch 11, CIFAR-10 Batch 3:  loss: 0.925489   accuracy: 0.576\n",
      "Epoch 11, CIFAR-10 Batch 4:  loss: 0.889148   accuracy: 0.587\n",
      "Epoch 11, CIFAR-10 Batch 5:  loss: 1.0189   accuracy: 0.5838\n",
      "Epoch 12, CIFAR-10 Batch 1:  loss: 1.06975   accuracy: 0.579\n",
      "Epoch 12, CIFAR-10 Batch 2:  loss: 0.909523   accuracy: 0.5816\n",
      "Epoch 12, CIFAR-10 Batch 3:  loss: 0.842961   accuracy: 0.587\n",
      "Epoch 12, CIFAR-10 Batch 4:  loss: 0.833656   accuracy: 0.575\n",
      "Epoch 12, CIFAR-10 Batch 5:  loss: 1.02053   accuracy: 0.581\n",
      "Epoch 13, CIFAR-10 Batch 1:  loss: 1.01801   accuracy: 0.5856\n",
      "Epoch 13, CIFAR-10 Batch 2:  loss: 0.895849   accuracy: 0.5758\n",
      "Epoch 13, CIFAR-10 Batch 3:  loss: 0.803233   accuracy: 0.6\n",
      "Epoch 13, CIFAR-10 Batch 4:  loss: 0.824789   accuracy: 0.6052\n",
      "Epoch 13, CIFAR-10 Batch 5:  loss: 0.994197   accuracy: 0.5916\n",
      "Epoch 14, CIFAR-10 Batch 1:  loss: 0.956447   accuracy: 0.5934\n",
      "Epoch 14, CIFAR-10 Batch 2:  loss: 0.888285   accuracy: 0.5834\n",
      "Epoch 14, CIFAR-10 Batch 3:  loss: 0.786744   accuracy: 0.6036\n",
      "Epoch 14, CIFAR-10 Batch 4:  loss: 0.789535   accuracy: 0.6028\n",
      "Epoch 14, CIFAR-10 Batch 5:  loss: 0.927293   accuracy: 0.5952\n",
      "Epoch 15, CIFAR-10 Batch 1:  loss: 0.958712   accuracy: 0.6128\n",
      "Epoch 15, CIFAR-10 Batch 2:  loss: 0.870297   accuracy: 0.6082\n",
      "Epoch 15, CIFAR-10 Batch 3:  loss: 0.763961   accuracy: 0.6104\n",
      "Epoch 15, CIFAR-10 Batch 4:  loss: 0.788692   accuracy: 0.5958\n",
      "Epoch 15, CIFAR-10 Batch 5:  loss: 0.886019   accuracy: 0.6052\n",
      "Epoch 16, CIFAR-10 Batch 1:  loss: 0.952381   accuracy: 0.608\n",
      "Epoch 16, CIFAR-10 Batch 2:  loss: 0.84187   accuracy: 0.61\n",
      "Epoch 16, CIFAR-10 Batch 3:  loss: 0.716443   accuracy: 0.6214\n",
      "Epoch 16, CIFAR-10 Batch 4:  loss: 0.726355   accuracy: 0.6188\n",
      "Epoch 16, CIFAR-10 Batch 5:  loss: 0.886156   accuracy: 0.611\n",
      "Epoch 17, CIFAR-10 Batch 1:  loss: 0.913727   accuracy: 0.613\n",
      "Epoch 17, CIFAR-10 Batch 2:  loss: 0.808721   accuracy: 0.6128\n",
      "Epoch 17, CIFAR-10 Batch 3:  loss: 0.654725   accuracy: 0.6196\n",
      "Epoch 17, CIFAR-10 Batch 4:  loss: 0.720082   accuracy: 0.61\n",
      "Epoch 17, CIFAR-10 Batch 5:  loss: 0.835976   accuracy: 0.627\n",
      "Epoch 18, CIFAR-10 Batch 1:  loss: 0.879951   accuracy: 0.6136\n",
      "Epoch 18, CIFAR-10 Batch 2:  loss: 0.795723   accuracy: 0.605\n",
      "Epoch 18, CIFAR-10 Batch 3:  loss: 0.647468   accuracy: 0.6288\n",
      "Epoch 18, CIFAR-10 Batch 4:  loss: 0.692856   accuracy: 0.6374\n",
      "Epoch 18, CIFAR-10 Batch 5:  loss: 0.816968   accuracy: 0.6276\n",
      "Epoch 19, CIFAR-10 Batch 1:  loss: 0.848989   accuracy: 0.6212\n",
      "Epoch 19, CIFAR-10 Batch 2:  loss: 0.724005   accuracy: 0.6196\n",
      "Epoch 19, CIFAR-10 Batch 3:  loss: 0.636493   accuracy: 0.6276\n",
      "Epoch 19, CIFAR-10 Batch 4:  loss: 0.622274   accuracy: 0.6338\n",
      "Epoch 19, CIFAR-10 Batch 5:  loss: 0.799289   accuracy: 0.6266\n",
      "Epoch 20, CIFAR-10 Batch 1:  loss: 0.782178   accuracy: 0.6314\n",
      "Epoch 20, CIFAR-10 Batch 2:  loss: 0.717442   accuracy: 0.6192\n",
      "Epoch 20, CIFAR-10 Batch 3:  loss: 0.660812   accuracy: 0.6264\n",
      "Epoch 20, CIFAR-10 Batch 4:  loss: 0.657936   accuracy: 0.6316\n",
      "Epoch 20, CIFAR-10 Batch 5:  loss: 0.793454   accuracy: 0.6444\n",
      "Epoch 21, CIFAR-10 Batch 1:  loss: 0.794931   accuracy: 0.6398\n",
      "Epoch 21, CIFAR-10 Batch 2:  loss: 0.692275   accuracy: 0.636\n",
      "Epoch 21, CIFAR-10 Batch 3:  loss: 0.596222   accuracy: 0.641\n",
      "Epoch 21, CIFAR-10 Batch 4:  loss: 0.624998   accuracy: 0.6368\n",
      "Epoch 21, CIFAR-10 Batch 5:  loss: 0.796897   accuracy: 0.631\n",
      "Epoch 22, CIFAR-10 Batch 1:  loss: 0.754932   accuracy: 0.6334\n",
      "Epoch 22, CIFAR-10 Batch 2:  loss: 0.671935   accuracy: 0.618\n",
      "Epoch 22, CIFAR-10 Batch 3:  loss: 0.550183   accuracy: 0.6256\n",
      "Epoch 22, CIFAR-10 Batch 4:  loss: 0.605357   accuracy: 0.6542\n",
      "Epoch 22, CIFAR-10 Batch 5:  loss: 0.720213   accuracy: 0.649\n",
      "Epoch 23, CIFAR-10 Batch 1:  loss: 0.725654   accuracy: 0.639\n",
      "Epoch 23, CIFAR-10 Batch 2:  loss: 0.642031   accuracy: 0.6488\n",
      "Epoch 23, CIFAR-10 Batch 3:  loss: 0.505479   accuracy: 0.6528\n",
      "Epoch 23, CIFAR-10 Batch 4:  loss: 0.574767   accuracy: 0.6444\n",
      "Epoch 23, CIFAR-10 Batch 5:  loss: 0.679401   accuracy: 0.6482\n",
      "Epoch 24, CIFAR-10 Batch 1:  loss: 0.742282   accuracy: 0.6554\n",
      "Epoch 24, CIFAR-10 Batch 2:  loss: 0.660197   accuracy: 0.6516\n",
      "Epoch 24, CIFAR-10 Batch 3:  loss: 0.490688   accuracy: 0.6504\n",
      "Epoch 24, CIFAR-10 Batch 4:  loss: 0.570912   accuracy: 0.647\n",
      "Epoch 24, CIFAR-10 Batch 5:  loss: 0.685887   accuracy: 0.649\n",
      "Epoch 25, CIFAR-10 Batch 1:  loss: 0.734047   accuracy: 0.6536\n",
      "Epoch 25, CIFAR-10 Batch 2:  loss: 0.647094   accuracy: 0.65\n",
      "Epoch 25, CIFAR-10 Batch 3:  loss: 0.503777   accuracy: 0.6484\n",
      "Epoch 25, CIFAR-10 Batch 4:  loss: 0.524395   accuracy: 0.6506\n",
      "Epoch 25, CIFAR-10 Batch 5:  loss: 0.671684   accuracy: 0.6536\n",
      "Epoch 26, CIFAR-10 Batch 1:  loss: 0.723849   accuracy: 0.6426\n",
      "Epoch 26, CIFAR-10 Batch 2:  loss: 0.63706   accuracy: 0.6502\n",
      "Epoch 26, CIFAR-10 Batch 3:  loss: 0.442972   accuracy: 0.662\n",
      "Epoch 26, CIFAR-10 Batch 4:  loss: 0.529388   accuracy: 0.6592\n",
      "Epoch 26, CIFAR-10 Batch 5:  loss: 0.63319   accuracy: 0.6546\n",
      "Epoch 27, CIFAR-10 Batch 1:  loss: 0.752042   accuracy: 0.6396\n",
      "Epoch 27, CIFAR-10 Batch 2:  loss: 0.648394   accuracy: 0.6552\n",
      "Epoch 27, CIFAR-10 Batch 3:  loss: 0.455352   accuracy: 0.6616\n",
      "Epoch 27, CIFAR-10 Batch 4:  loss: 0.544683   accuracy: 0.6624\n",
      "Epoch 27, CIFAR-10 Batch 5:  loss: 0.640398   accuracy: 0.6644\n",
      "Epoch 28, CIFAR-10 Batch 1:  loss: 0.689613   accuracy: 0.6486\n",
      "Epoch 28, CIFAR-10 Batch 2:  loss: 0.630703   accuracy: 0.6646\n",
      "Epoch 28, CIFAR-10 Batch 3:  loss: 0.434326   accuracy: 0.6536\n",
      "Epoch 28, CIFAR-10 Batch 4:  loss: 0.520493   accuracy: 0.6618\n",
      "Epoch 28, CIFAR-10 Batch 5:  loss: 0.651737   accuracy: 0.6578\n",
      "Epoch 29, CIFAR-10 Batch 1:  loss: 0.66253   accuracy: 0.6628\n",
      "Epoch 29, CIFAR-10 Batch 2:  loss: 0.565809   accuracy: 0.6562\n",
      "Epoch 29, CIFAR-10 Batch 3:  loss: 0.433524   accuracy: 0.656\n",
      "Epoch 29, CIFAR-10 Batch 4:  loss: 0.502984   accuracy: 0.6662\n",
      "Epoch 29, CIFAR-10 Batch 5:  loss: 0.585359   accuracy: 0.6556\n",
      "Epoch 30, CIFAR-10 Batch 1:  loss: 0.642542   accuracy: 0.6642\n",
      "Epoch 30, CIFAR-10 Batch 2:  loss: 0.533153   accuracy: 0.6548\n",
      "Epoch 30, CIFAR-10 Batch 3:  loss: 0.391463   accuracy: 0.6536\n",
      "Epoch 30, CIFAR-10 Batch 4:  loss: 0.486805   accuracy: 0.6634\n",
      "Epoch 30, CIFAR-10 Batch 5:  loss: 0.557292   accuracy: 0.663\n"
     ]
    }
   ],
   "source": [
    "\"\"\"\n",
    "DON'T MODIFY ANYTHING IN THIS CELL\n",
    "\"\"\"\n",
    "save_model_path = './image_classification'\n",
    "\n",
    "print('Training...')\n",
    "with tf.Session() as sess:\n",
    "    # Initializing the variables\n",
    "    sess.run(tf.global_variables_initializer())\n",
    "    \n",
    "    # Training cycle\n",
    "    for epoch in range(epochs):\n",
    "        # Loop over all batches\n",
    "        n_batches = 5\n",
    "        for batch_i in range(1, n_batches + 1):\n",
    "            for batch_features, batch_labels in helper.load_preprocess_training_batch(batch_i, batch_size):\n",
    "                train_neural_network(sess, optimizer, keep_probability, batch_features, batch_labels)\n",
    "            print('Epoch {:>2}, CIFAR-10 Batch {}:  '.format(epoch + 1, batch_i), end='')\n",
    "            print_stats(sess, batch_features, batch_labels, cost, accuracy)\n",
    "            \n",
    "    # Save Model\n",
    "    saver = tf.train.Saver()\n",
    "    save_path = saver.save(sess, save_model_path)"
   ]
  },
  {
   "cell_type": "markdown",
   "metadata": {
    "deletable": true,
    "editable": true
   },
   "source": [
    "# Checkpoint\n",
    "The model has been saved to disk.\n",
    "## Test Model\n",
    "Test your model against the test dataset.  This will be your final accuracy. You should have an accuracy greater than 50%. If you don't, keep tweaking the model architecture and parameters."
   ]
  },
  {
   "cell_type": "code",
   "execution_count": 15,
   "metadata": {
    "collapsed": false,
    "deletable": true,
    "editable": true
   },
   "outputs": [
    {
     "name": "stdout",
     "output_type": "stream",
     "text": [
      "Testing Accuracy: 0.648828125\n",
      "\n"
     ]
    },
    {
     "data": {
      "image/png": "[encoded data removed]",
      "text/plain": [
       "<matplotlib.figure.Figure at 0xc57be10>"
      ]
     },
     "metadata": {
      "image/png": {
       "height": 319,
       "width": 355
      }
     },
     "output_type": "display_data"
    }
   ],
   "source": [
    "\"\"\"\n",
    "DON'T MODIFY ANYTHING IN THIS CELL\n",
    "\"\"\"\n",
    "%matplotlib inline\n",
    "%config InlineBackend.figure_format = 'retina'\n",
    "\n",
    "import tensorflow as tf\n",
    "import pickle\n",
    "import helper\n",
    "import random\n",
    "\n",
    "# Set batch size if not already set\n",
    "try:\n",
    "    if batch_size:\n",
    "        pass\n",
    "except NameError:\n",
    "    batch_size = 64\n",
    "\n",
    "save_model_path = './image_classification'\n",
    "n_samples = 4\n",
    "top_n_predictions = 3\n",
    "\n",
    "def test_model():\n",
    "    \"\"\"\n",
    "    Test the saved model against the test dataset\n",
    "    \"\"\"\n",
    "\n",
    "    test_features, test_labels = pickle.load(open('preprocess_training.p', mode='rb'))\n",
    "    loaded_graph = tf.Graph()\n",
    "\n",
    "    with tf.Session(graph=loaded_graph) as sess:\n",
    "        # Load model\n",
    "        loader = tf.train.import_meta_graph(save_model_path + '.meta')\n",
    "        loader.restore(sess, save_model_path)\n",
    "\n",
    "        # Get Tensors from loaded model\n",
    "        loaded_x = loaded_graph.get_tensor_by_name('x:0')\n",
    "        loaded_y = loaded_graph.get_tensor_by_name('y:0')\n",
    "        loaded_keep_prob = loaded_graph.get_tensor_by_name('keep_prob:0')\n",
    "        loaded_logits = loaded_graph.get_tensor_by_name('logits:0')\n",
    "        loaded_acc = loaded_graph.get_tensor_by_name('accuracy:0')\n",
    "        \n",
    "        # Get accuracy in batches for memory limitations\n",
    "        test_batch_acc_total = 0\n",
    "        test_batch_count = 0\n",
    "        \n",
    "        for train_feature_batch, train_label_batch in helper.batch_features_labels(test_features, test_labels, batch_size):\n",
    "            test_batch_acc_total += sess.run(\n",
    "                loaded_acc,\n",
    "                feed_dict={loaded_x: train_feature_batch, loaded_y: train_label_batch, loaded_keep_prob: 1.0})\n",
    "            test_batch_count += 1\n",
    "\n",
    "        print('Testing Accuracy: {}\\n'.format(test_batch_acc_total/test_batch_count))\n",
    "\n",
    "        # Print Random Samples\n",
    "        random_test_features, random_test_labels = tuple(zip(*random.sample(list(zip(test_features, test_labels)), n_samples)))\n",
    "        random_test_predictions = sess.run(\n",
    "            tf.nn.top_k(tf.nn.softmax(loaded_logits), top_n_predictions),\n",
    "            feed_dict={loaded_x: random_test_features, loaded_y: random_test_labels, loaded_keep_prob: 1.0})\n",
    "        helper.display_image_predictions(random_test_features, random_test_labels, random_test_predictions)\n",
    "\n",
    "\n",
    "test_model()"
   ]
  },
  {
   "cell_type": "markdown",
   "metadata": {
    "deletable": true,
    "editable": true
   },
   "source": [
    "## Why 50-70% Accuracy?\n",
    "You might be wondering why you can't get an accuracy any higher. First things first, 50% isn't bad for a simple CNN.  Pure guessing would get you 10% accuracy. However, you might notice people are getting scores [well above 70%](http://rodrigob.github.io/are_we_there_yet/build/classification_datasets_results.html#43494641522d3130).  That's because we haven't taught you all there is to know about neural networks. We still need to cover a few more techniques.\n",
    "## Submitting This Project\n",
    "When submitting this project, make sure to run all the cells before saving the notebook.  Save the notebook file as \"dlnd_image_classification.ipynb\" and save it as a HTML file under \"File\" -> \"Download as\".  Include the \"helper.py\" and \"problem_unittests.py\" files in your submission."
   ]
  }
 ],
 "metadata": {
  "anaconda-cloud": {},
  "kernelspec": {
   "display_name": "Python [default]",
   "language": "python",
   "name": "python3"
  },
  "language_info": {
   "codemirror_mode": {
    "name": "ipython",
    "version": 3
   },
   "file_extension": ".py",
   "mimetype": "text/x-python",
   "name": "python",
   "nbconvert_exporter": "python",
   "pygments_lexer": "ipython3",
   "version": "3.5.3"
  }
 },
 "nbformat": 4,
 "nbformat_minor": 0
}
